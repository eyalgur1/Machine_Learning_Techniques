{
  "nbformat": 4,
  "nbformat_minor": 0,
  "metadata": {
    "colab": {
      "provenance": [],
      "authorship_tag": "ABX9TyOeYBb4QNIhEFuO09m6KNUh",
      "include_colab_link": true
    },
    "kernelspec": {
      "name": "python3",
      "display_name": "Python 3"
    },
    "language_info": {
      "name": "python"
    }
  },
  "cells": [
    {
      "cell_type": "markdown",
      "metadata": {
        "id": "view-in-github",
        "colab_type": "text"
      },
      "source": [
        "<a href=\"https://colab.research.google.com/github/eyalgur1/Machine_Learning_Techniques/blob/main/RegressionComparison.ipynb\" target=\"_parent\"><img src=\"https://colab.research.google.com/assets/colab-badge.svg\" alt=\"Open In Colab\"/></a>"
      ]
    },
    {
      "cell_type": "markdown",
      "source": [
        "## **Packages and Data Generation**🚫"
      ],
      "metadata": {
        "id": "6yyNo_ZWF8FO"
      }
    },
    {
      "cell_type": "code",
      "execution_count": 9,
      "metadata": {
        "id": "nyEFhLyrVFWh",
        "cellView": "form"
      },
      "outputs": [],
      "source": [
        "#@title #####**Import Packages**🚫\n",
        "import numpy as np\n",
        "import pandas as pd\n",
        "import matplotlib.pyplot as plt\n",
        "import cvxpy as cvx\n",
        "from IPython.display import Latex\n",
        "import sklearn\n",
        "import sklearn.ensemble\n",
        "import sklearn.tree\n",
        "import sklearn.datasets\n",
        "from sklearn.model_selection import train_test_split\n",
        "from sklearn.metrics import mean_squared_error\n",
        "import torch\n",
        "import torch.nn as nn\n",
        "import xgboost as xgb\n",
        "import importlib"
      ]
    },
    {
      "cell_type": "code",
      "source": [
        "#@title #####**Mount Drive and Install Latex**🚫\n",
        "\n",
        "from google.colab import drive\n",
        "drive.mount(\"/content/drive/\")\n",
        "\n",
        "# Install LaTeX and related packages\n",
        "!sudo apt-get update -qq\n",
        "!sudo apt-get install -y texlive texlive-latex-extra dvipng texlive-fonts-recommended cm-super\n",
        "\n",
        "plt.rcParams.update({\n",
        "    \"text.usetex\": True,             # Use LaTeX for all text\n",
        "    \"font.family\": \"serif\",          # Use serif fonts\n",
        "    \"font.serif\": [\"Computer Modern Roman\"],  # Use Computer Modern Roman font\n",
        "    \"text.latex.preamble\": r\"\\usepackage{amsmath}\",  # Load additional packages\n",
        "    \"font.size\": 16,                 # Default font size\n",
        "    \"axes.titlesize\": 14,            # Title font size\n",
        "    \"axes.labelsize\": 14,            # Axis labels font size\n",
        "    \"xtick.labelsize\": 14,           # X-tick labels font size\n",
        "    \"ytick.labelsize\": 14,           # Y-tick labels font size\n",
        "    \"legend.fontsize\": 14\n",
        "})"
      ],
      "metadata": {
        "cellView": "form",
        "id": "XEmyFuByKsIh"
      },
      "execution_count": null,
      "outputs": []
    },
    {
      "cell_type": "code",
      "source": [
        "#@title #####**Functions for Generation of Tabular Data**🚫\n",
        "\n",
        "def createTabularData(features, target, scaler, val_per, test_per):\n",
        "    # Input:\n",
        "    # features: a numerical array of column features\n",
        "    # target: a numerical array of target labels\n",
        "    # scaler: a string with 'minmax' or 'standard' data scaler\n",
        "    # Output:\n",
        "    # dataset: dictionary with 6 items: feature_train/val/test and target_train/val/test\n",
        "\n",
        "\n",
        "    # Split to train/validation/test sets (before preprocessing)\n",
        "    X_train_pre, X_remain, y_train_pre, y_remain = train_test_split(features, target.reshape(-1,1), test_size=val_per+test_per, random_state=1)  # split and fix the seed\n",
        "    X_val_pre, X_test_pre, y_val_pre, y_test_pre = train_test_split(X_remain, y_remain, test_size=test_per/(val_per+test_per), random_state=1)\n",
        "\n",
        "\n",
        "    # Initialize scalers to normalize the data to have the same scale\n",
        "    if scaler.lower() in ['minmax']:\n",
        "        scaler_X = sklearn.preprocessing.MinMaxScaler()  # initializes a scaler that scales any column to [0,1] (column-wise)\n",
        "        scaler_y = sklearn.preprocessing.MinMaxScaler()  # scaler for y\n",
        "    elif scaler.lower() in ['standard']:\n",
        "        scaler_X = sklearn.preprocessing.StandardScaler()  # initializes a scaler by removing the mean and scaling to unit variance (column-wise)\n",
        "        scaler_y = sklearn.preprocessing.StandardScaler()  # scaler for y\n",
        "    else:\n",
        "        raise ValueError(\"No scaler named '\"+scaler.lower()+\"'. Set scaler='minmax' or scaler='standard'.\")\n",
        "\n",
        "\n",
        "    # Scale the data according to the training set\n",
        "    # Tranforms that data according to the limits already set by the training set\n",
        "    X_train = scaler_X.fit_transform(X_train_pre)\n",
        "    X_val, X_test = (scaler_X.transform(X_val_pre), scaler_X.transform(X_test_pre))\n",
        "    y_train = scaler_y.fit_transform(y_train_pre)\n",
        "    y_val, y_test = (scaler_y.transform(y_val_pre), scaler_y.transform(y_test_pre))\n",
        "\n",
        "\n",
        "    tabular_dataset = dict(feature_train = X_train, target_train = y_train,\n",
        "                           feature_val = X_val, target_val = y_val,\n",
        "                           feature_test = X_test, target_test = y_test,\n",
        "                           inv_feature_scale = scaler_X.inverse_transform,\n",
        "                           inv_target_scale = scaler_y.inverse_transform)\n",
        "    return tabular_dataset\n",
        "\n",
        "\n",
        "# Auxiliary function for dynamic data import by the user\n",
        "def dynamic_import(module_name: str, object_name: str):\n",
        "    # Import the module dynamically\n",
        "    module = importlib.import_module(module_name)\n",
        "\n",
        "    # Import the specific object from the module\n",
        "    imported_object = getattr(module, object_name)\n",
        "\n",
        "    return imported_object"
      ],
      "metadata": {
        "id": "kpviYl1uJSBc",
        "cellView": "form"
      },
      "execution_count": 11,
      "outputs": []
    },
    {
      "cell_type": "markdown",
      "source": [
        "## **Implementation of Regressors**🚫"
      ],
      "metadata": {
        "id": "ryeDkNXnFehn"
      }
    },
    {
      "cell_type": "code",
      "source": [
        "#@title #####**Functions for Instantiation of Regressors (to be deleted)**🚫\n",
        "#@markdown For the regression task, we use the following six regressors: Decision Tree, Bagged Trees, Random Forest, Gradient Boosting, Linear Regression, and Neural Network.\n",
        "\"Decision Tree\"\n",
        "# Decision tree regressor: predicts the value of a target variable by learning simple (if-then-else) decision rules.\n",
        "# A tree can be seen as a piecewise constant approximation.\n",
        "#def decisionTreeReg(max_depth):\n",
        " #   return sklearn.tree.DecisionTreeRegressor(max_depth=max_depth)\n",
        "\n",
        "\n",
        "\"Bagged Trees\"\n",
        "# Bagging regressor: fits base regressors each on random subsets of the original dataset,\n",
        "# and then aggregates their individual predictions (by averaging) to form a final prediction.\n",
        "# Reduces the variance of an estimator by introducing randomization.\n",
        "# This implementaion considers all dataset (hence, just shuffles the data for each tree).\n",
        "# def baggedTreesReg(n_estimators, max_depth):\n",
        "#     return sklearn.ensemble.BaggingRegressor(estimator=sklearn.tree.DecisionTreeRegressor(max_depth=max_depth),\n",
        "#                                          n_estimators=n_estimators, verbose = 1,\n",
        "#                                          warm_start = True)\n",
        "\n",
        "\n",
        "\"Random Forest\"\n",
        "# Random forest regressor: fits a number of decision tree regressors on (possibly various random sub-samples of) the dataset,\n",
        "# by randomly selecting a sub-set of the features at each split,\n",
        "# and averages to improve the predictive accuracy and control over-fitting.\n",
        "# Equivalent to Bagged Trees if selecting all features at each split.\n",
        "# This implementaion considers all dataset (hence, just shuffles the data for each tree).\n",
        "#def randomForestReg(n_estimators, max_depth):\n",
        "#    return sklearn.ensemble.RandomForestRegressor(n_estimators=n_estimators, max_depth=max_depth, max_features = \"sqrt\")\n",
        "\n",
        "\n",
        "\"Gradient Boosting\"\n",
        "# Gradient boosting regressor: a functional gradient descent on fitted trees,\n",
        "# where at iteration we fit a tree using the previous fits as a \"descent direction\".\n",
        "# Here we use XGBoost as an API for sklearn.\n",
        "#def gradBoostReg(n_estimators, max_depth, lr):\n",
        " #   return xgb.XGBRegressor(objective='reg:squarederror', n_estimators=n_estimators,\n",
        "  #                               learning_rate=lr, max_depth=max_depth, eval_metric=['rmse'])\n",
        "\n",
        "\n",
        "\"Linear Regression\"\n",
        "# Linear regressor: a simple l2-regression with exact solution.\n",
        "# Using a polynomial linear regression for multi-feature setting is expensive,\n",
        "# as the Vandermonde matrix is too large for accurate inversion even when the poly degree is small.\n",
        "# For a polynomial linear regression, one can use gradient descent.\n",
        "def linearReg(intercept=False):\n",
        "    def leastSqaures(A, b):\n",
        "        if ~intercept:  # if intercept is not required\n",
        "            A = np.append(np.ones((A.shape[0], 1)), A, 1)  # append column of ones for free coefficient (Vendermonde)\n",
        "        AT = np.transpose(A)\n",
        "        return 0.5*np.linalg.inv(AT@A)@AT@b  # return least squares solution\n",
        "    return leastSqaures\n",
        "\n",
        "\n",
        "\"Neuarl Network\"\n",
        "# Neural network regressor: a simple regression PyTorch net with one hidden layer.\n",
        "# The activation function is ReLU, optimizer is Adam, loss is MSELoss, and lr is given by the user.\n",
        "# This function returns the model, criterion (loss), and the optimizer.\n",
        "def neuralNetReg(input_dim, hidden_dim, output_dim, lr):\n",
        "\n",
        "    class SimpleRegressionModel(nn.Module):\n",
        "        def __init__(self, input_dim, hidden_dim, output_dim):\n",
        "            super(SimpleRegressionModel, self).__init__()\n",
        "            self.hidden = nn.Linear(input_dim, hidden_dim)\n",
        "            self.relu = nn.ReLU()\n",
        "            self.output = nn.Linear(hidden_dim, output_dim)\n",
        "\n",
        "        def forward(self, x):\n",
        "            x = self.hidden(x)\n",
        "            x = self.relu(x)\n",
        "            x = self.output(x)\n",
        "\n",
        "    model = SimpleRegressionModel(input_dim, hidden_dim, output_dim)\n",
        "    criterion = nn.MSELoss()\n",
        "    optimizer = torch.optim.Adam(model.parameters(), lr=lr)\n",
        "    return model, criterion, optimizer"
      ],
      "metadata": {
        "id": "Zfgtqzq5oqI1",
        "cellView": "form"
      },
      "execution_count": 4,
      "outputs": []
    },
    {
      "cell_type": "code",
      "source": [
        "#@title #####*Gradient Boosting Trainer*\n",
        "def gradBoostRegTrain(dataset, num_epochs, n_estimators, lr, max_depth):\n",
        "\n",
        "    gradBoost = xgb.XGBRegressor(objective='reg:squarederror', n_estimators = n_estimators,\n",
        "                                 learning_rate = lr, max_depth = max_depth, eval_metric = ['rmse'])\n",
        "\n",
        "    X_train = dataset['feature_train'];  y_train = dataset['target_train']\n",
        "    X_test = dataset['feature_test'];  y_test = dataset['target_test']\n",
        "    eval_set = [(X_train, y_train), (dataset['feature_val'], dataset['target_val'])]\n",
        "    inv_y_scale = dataset['inv_target_scale']\n",
        "    verbosity = gradBoost.n_estimators\n",
        "    results = {'mse_train':np.array([]), 'mse_val':np.array([]), 'mse_test':0, 'num_epochs':num_epochs}\n",
        "\n",
        "    print(\"\\033[4mGradient Boosting Regressor Training\\033[0m\", '\\n')\n",
        "    print(\"Notice: validation_0=Training Set, validation_1=Validation Set\", '\\n')\n",
        "\n",
        "\n",
        "    # Training loop\n",
        "    for epoch in range(num_epochs):\n",
        "        print('Epoch ', str(epoch+1), '/', str(num_epochs))\n",
        "        if epoch == 0:  # first epoch\n",
        "            gradBoost.fit(X_train, y_train, eval_set=eval_set, verbose=verbosity)\n",
        "            # eval_set: the data on which to track metric evaluation; can also be set as eval_set=[(X_train, y_train)]; eval_set is not used for training\n",
        "            # verbose: integer specifying the intervals of trees to specify metrics for (out of n_estimators in total)\n",
        "        else:\n",
        "            gradBoost.fit(X_train, y_train, eval_set=eval_set, verbose=verbosity, xgb_model=gradBoost.get_booster())\n",
        "            # after the first epoch, we use the previous fitted model as starting point with the command xgb_model=xgb_model.get_booster()\n",
        "\n",
        "\n",
        "        # Save MSE for later plotting\n",
        "        results_epoch = gradBoost.evals_result()\n",
        "        results['mse_train'] = np.append(results['mse_train'], np.array(results_epoch['validation_0']['rmse'])**2)\n",
        "        results['mse_val'] = np.append(results['mse_val'], np.array(results_epoch['validation_1']['rmse'])**2)\n",
        "\n",
        "    y_pred = gradBoost.predict(X_test).reshape(-1,1)\n",
        "    results['mse_test'] = mean_squared_error(y_test, y_pred)\n",
        "\n",
        "    # Evaluate the model's performance (transform back to terms of original prices)\n",
        "    mse_test_price = mean_squared_error(inv_y_scale(y_test), inv_y_scale(y_pred))\n",
        "    print('\\n', 'Test MSE: ', results['mse_test'])\n",
        "    print('Test MSE in terms of original prices: ', mse_test_price, '\\n')\n",
        "\n",
        "    return gradBoost, results\n",
        "\n",
        "\n",
        "def gradBoostPlot(gradBoost, results):\n",
        "    # Training and validation sets\n",
        "    plt.figure(figsize=(5, 3))\n",
        "    plt.semilogy(results['mse_train'])  # the training set\n",
        "    plt.semilogy(results['mse_val'])  # the validation set\n",
        "    plt.title('Gradient Boosting: MSE')\n",
        "    plt.xlabel(r'Iterations (\\#trees $\\times$ \\#epochs)')\n",
        "    xlim = gradBoost.n_estimators*results['num_epochs']\n",
        "    plt.xlim([0, xlim])\n",
        "\n",
        "    # Test set prediction\n",
        "    plt.semilogy(np.ones((xlim, 1))*results['mse_test'])\n",
        "    plt.legend(['Training set', 'Validation set', 'Test set output'])\n",
        "    plt.show()\n",
        "    print('\\n\\n\\n')"
      ],
      "metadata": {
        "id": "5MDLE_nR9Uv0",
        "cellView": "form"
      },
      "execution_count": 12,
      "outputs": []
    },
    {
      "cell_type": "code",
      "source": [
        "#@title #####*Bagged Trees Trainer*\n",
        "\n",
        "def baggedTreesRegTrain(dataset, max_depth, n_estimators):\n",
        "\n",
        "    X_train = dataset['feature_train'];  y_train = dataset['target_train'].ravel()\n",
        "    X_val = dataset['feature_val']; y_val = dataset['target_val']\n",
        "    X_test = dataset['feature_test'];  y_test = dataset['target_test']\n",
        "    inv_y_scale = dataset['inv_target_scale']\n",
        "    results = {'mse_train':np.array([]), 'mse_val':np.array([]), 'mse_test':np.array([]), 'max_depth':max_depth, 'n_estimators':n_estimators}\n",
        "\n",
        "    print(\"\\033[4mBagged Trees Regressor Training\\033[0m\", '\\n')\n",
        "\n",
        "\n",
        "    # Training loop\n",
        "    for depth in range(max_depth):\n",
        "        print('Depth', str(depth+1), '/', str(max_depth))\n",
        "        baggedTrees = sklearn.ensemble.BaggingRegressor(estimator=sklearn.tree.DecisionTreeRegressor(max_depth=depth+1), verbose = 1)\n",
        "        baggedTrees.fit(X_train, y_train)\n",
        "\n",
        "        y_depth_train = baggedTrees.predict(X_train).reshape(-1,1); mse_train = mean_squared_error(y_train, y_depth_train)\n",
        "        y_depth_val = baggedTrees.predict(X_val).reshape(-1,1); mse_val = mean_squared_error(y_val, y_depth_val)\n",
        "        y_depth_test = baggedTrees.predict(X_test).reshape(-1,1); mse_test = mean_squared_error(y_test, y_depth_test)\n",
        "        print('Training MSE: ', mse_train, '| Validation MSE: ', mse_val, '| Test MSE: ', mse_test, '\\n')\n",
        "\n",
        "        # Save MSE for later plotting\n",
        "        results['mse_train'] = np.append(results['mse_train'], mse_train)\n",
        "        results['mse_val'] = np.append(results['mse_val'], mse_val)\n",
        "        results['mse_test'] = np.append(results['mse_test'], mse_test)\n",
        "\n",
        "\n",
        "    # Evaluate the model's performance (transform back to terms of original prices)\n",
        "    mse_test_price = mean_squared_error(inv_y_scale(y_test).reshape(-1,1), inv_y_scale(y_depth_test).reshape(-1,1))  # convert to previous prices for the maximal depth\n",
        "    print('\\n', 'Test MSE for maximal depth: ', results['mse_test'][-1])\n",
        "    print('Test MSE in terms of original prices for maximal depth: ', mse_test_price, '\\n')\n",
        "\n",
        "\n",
        "    \"This code below updates the Bagged Trees with an epoch loop (instead of a depth loop), and increases the number of estimators at each epoch with awarm start of the prvious fit model\"\n",
        "    \"The corresponding plotting function is not updated according to this variant\"\n",
        "    # X_train = dataset['feature_train'];  y_train = dataset['target_train'].ravel()\n",
        "    # X_val = dataset['feature_val']; y_val = dataset['target_val']\n",
        "    # X_test = dataset['feature_test'];  y_test = dataset['target_test']\n",
        "    # inv_y_scale = dataset['inv_target_scale']\n",
        "    # trees_per_epoch = n_estimators // num_epochs\n",
        "    # results = {'mse_train':np.array([]), 'mse_val':np.array([])}\n",
        "\n",
        "    # baggedTrees = sklearn.ensemble.BaggingRegressor(estimator=sklearn.tree.DecisionTreeRegressor(max_depth=max_depth),\n",
        "    #                                      n_estimators = trees_per_epoch, verbose = 1,\n",
        "    #                                      warm_start = True)\n",
        "\n",
        "    # print(\"\\033[4mBagged Trees Regressor Training\\033[0m\", '\\n')\n",
        "\n",
        "\n",
        "    # # Training loop\n",
        "    # for epoch in range(num_epochs):\n",
        "    #     print('Epoch', str(epoch+1), '/', str(num_epochs), '|| #estimators:', baggedTrees.n_estimators)\n",
        "    #     baggedTrees.fit(X_train, y_train)\n",
        "\n",
        "    #     y_epoch_train = baggedTrees.predict(X_train).reshape(-1,1); mse_train = mean_squared_error(y_train, y_epoch_train)\n",
        "    #     y_epoch_val = baggedTrees.predict(X_val).reshape(-1,1); mse_val = mean_squared_error(y_val, y_epoch_val)\n",
        "    #     print('Training MSE: ', mse_train, '| Validation MSE: ', mse_val, '\\n')\n",
        "\n",
        "    #     # Save MSE for later plotting\n",
        "    #     results['mse_train'] = np.append(results['mse_train'], mse_train)\n",
        "    #     results['mse_val'] = np.append(results['mse_val'], mse_val)\n",
        "\n",
        "    #     baggedTrees.n_estimators += trees_per_epoch\n",
        "\n",
        "\n",
        "    # y_pred = baggedTrees.predict(X_test).reshape(-1,1)\n",
        "    # results['mse_test'] = mean_squared_error(y_test, y_pred)\n",
        "\n",
        "    # # Evaluate the model's performance (transform back to terms of original prices)\n",
        "    # mse_test_price = mean_squared_error(inv_y_scale(y_test), inv_y_scale(y_pred))\n",
        "    # print('\\n', 'Test MSE: ', results['mse_test'])\n",
        "    # print('Test MSE in terms of original prices: ', mse_test_price, '\\n')\n",
        "\n",
        "    return baggedTrees, results\n",
        "\n",
        "\n",
        "def baggedTreesPlot(baggedTrees, results):\n",
        "    # Training and validation sets\n",
        "    plt.figure(figsize=(5, 3))\n",
        "    plt.plot(results['mse_train'])  # the training set\n",
        "    plt.plot(results['mse_val'])  # the validation set\n",
        "    plt.plot(results['mse_test'])  # the test set\n",
        "    plt.title(\"Bagged Trees (with \"+str(results['n_estimators'])+\" estimators): MSE\")\n",
        "    plt.xlabel(r'Depth')\n",
        "    xlim = results['max_depth']\n",
        "    plt.xlim([0, xlim-1])\n",
        "    xticks = [tick for tick in range(0,xlim)]\n",
        "    xtick_labels = [f'{tick+1}' for tick in range(0,xlim)]\n",
        "    plt.xticks(xticks, xtick_labels)\n",
        "\n",
        "\n",
        "    plt.legend(['Training set', 'Validation set', 'Test set'])\n",
        "    plt.show()\n",
        "    print('\\n\\n\\n')"
      ],
      "metadata": {
        "id": "yHnIxG25HBG-",
        "cellView": "form"
      },
      "execution_count": 40,
      "outputs": []
    },
    {
      "cell_type": "code",
      "source": [
        "#@title #####*Random Forest Trainer*\n",
        "\n",
        "def randomForestRegTrain(dataset, max_depth, n_estimators):\n",
        "\n",
        "    X_train = dataset['feature_train'];  y_train = dataset['target_train'].ravel()\n",
        "    X_val = dataset['feature_val']; y_val = dataset['target_val']\n",
        "    X_test = dataset['feature_test'];  y_test = dataset['target_test']\n",
        "    inv_y_scale = dataset['inv_target_scale']\n",
        "    results = {'mse_train':np.array([]), 'mse_val':np.array([]), 'mse_test':np.array([]), 'max_depth':max_depth, 'n_estimators':n_estimators}\n",
        "\n",
        "    print(\"\\033[4mRandom Forest Regressor Training\\033[0m\", '\\n')\n",
        "\n",
        "\n",
        "    # Training loop\n",
        "    for depth in range(max_depth):\n",
        "        print('Depth', str(depth+1), '/', str(max_depth))\n",
        "        randomForest = sklearn.ensemble.RandomForestRegressor(max_features='sqrt', n_estimators=n_estimators, max_depth=depth+1, verbose = 1)\n",
        "        randomForest.fit(X_train, y_train)\n",
        "\n",
        "        y_depth_train = randomForest.predict(X_train).reshape(-1,1); mse_train = mean_squared_error(y_train, y_depth_train)\n",
        "        y_depth_val = randomForest.predict(X_val).reshape(-1,1); mse_val = mean_squared_error(y_val, y_depth_val)\n",
        "        y_depth_test = randomForest.predict(X_test).reshape(-1,1); mse_test = mean_squared_error(y_test, y_depth_test)\n",
        "        print('Training MSE: ', mse_train, '| Validation MSE: ', mse_val, '| Test MSE: ', mse_test, '\\n')\n",
        "\n",
        "        # Save MSE for later plotting\n",
        "        results['mse_train'] = np.append(results['mse_train'], mse_train)\n",
        "        results['mse_val'] = np.append(results['mse_val'], mse_val)\n",
        "        results['mse_test'] = np.append(results['mse_test'], mse_test)\n",
        "\n",
        "\n",
        "    # Evaluate the model's performance (transform back to terms of original prices)\n",
        "    mse_test_price = mean_squared_error(inv_y_scale(y_test).reshape(-1,1), inv_y_scale(y_depth_test).reshape(-1,1))  # convert to previous prices for the maximal depth\n",
        "    print('\\n', 'Test MSE for maximal depth: ', results['mse_test'][-1])\n",
        "    print('Test MSE in terms of original prices for maximal depth: ', mse_test_price, '\\n')\n",
        "\n",
        "\n",
        "    \"Random Forest can be trained with an epoch loop (instead of a depth loop -- see note at the bottom of the Bagged Tree Regressor function), and increases the number of estimators at each epoch with a warm start of the prvious fit model\"\n",
        "    \"The corresponding plotting function is not updated according to this variant\"\n",
        "\n",
        "    return baggedTrees, results\n",
        "\n",
        "\n",
        "def randomForestPlot(baggedTrees, results):\n",
        "    # Training and validation sets\n",
        "    plt.figure(figsize=(5, 3))\n",
        "    plt.plot(results['mse_train'])  # the training set\n",
        "    plt.plot(results['mse_val'])  # the validation set\n",
        "    plt.plot(results['mse_test'])  # the test set\n",
        "    plt.title(\"Random Forest (with \"+str(results['n_estimators'])+\" estimators): MSE\")\n",
        "    plt.xlabel(r'Depth')\n",
        "    xlim = results['max_depth']\n",
        "    plt.xlim([0, xlim-1])\n",
        "    xticks = [tick for tick in range(0,xlim)]\n",
        "    xtick_labels = [f'{tick+1}' for tick in range(0,xlim)]\n",
        "    plt.xticks(xticks, xtick_labels)\n",
        "\n",
        "\n",
        "    plt.legend(['Training set', 'Validation set', 'Test set'])\n",
        "    plt.show()\n",
        "    print('\\n\\n\\n')"
      ],
      "metadata": {
        "cellView": "form",
        "id": "14haJswu2Prv"
      },
      "execution_count": 14,
      "outputs": []
    },
    {
      "cell_type": "code",
      "source": [
        "#@title #####*Decision Tree Trainer*\n",
        "\n",
        "def decisionTreeRegTrain(dataset, max_depth):\n",
        "\n",
        "    X_train = dataset['feature_train'];  y_train = dataset['target_train'].ravel()\n",
        "    X_val = dataset['feature_val']; y_val = dataset['target_val']\n",
        "    X_test = dataset['feature_test'];  y_test = dataset['target_test']\n",
        "    inv_y_scale = dataset['inv_target_scale']\n",
        "    results = {'mse_train':np.array([]), 'mse_val':np.array([]), 'mse_test':np.array([]), 'max_depth':max_depth}\n",
        "\n",
        "    print(\"\\033[4mDecision Tree Regressor Training\\033[0m\", '\\n')\n",
        "\n",
        "\n",
        "    # Training loop\n",
        "    for depth in range(max_depth):\n",
        "        print('Depth', str(depth+1), '/', str(max_depth))\n",
        "        decisionTree = sklearn.tree.DecisionTreeRegressor(max_depth = depth+1)\n",
        "        decisionTree.fit(X_train, y_train)\n",
        "\n",
        "        y_depth_train = decisionTree.predict(X_train).reshape(-1,1); mse_train = mean_squared_error(y_train, y_depth_train)\n",
        "        y_depth_val = decisionTree.predict(X_val).reshape(-1,1); mse_val = mean_squared_error(y_val, y_depth_val)\n",
        "        y_depth_test = decisionTree.predict(X_test).reshape(-1,1); mse_test = mean_squared_error(y_test, y_depth_test)\n",
        "        print('Training MSE: ', mse_train, '| Validation MSE: ', mse_val, '| Test MSE: ', mse_test, '\\n')\n",
        "\n",
        "        # Save MSE for later plotting\n",
        "        results['mse_train'] = np.append(results['mse_train'], mse_train)\n",
        "        results['mse_val'] = np.append(results['mse_val'], mse_val)\n",
        "        results['mse_test'] = np.append(results['mse_test'], mse_test)\n",
        "\n",
        "\n",
        "    # Evaluate the model's performance (transform back to terms of original prices)\n",
        "    mse_test_price = mean_squared_error(inv_y_scale(y_test).reshape(-1,1), inv_y_scale(y_depth_test).reshape(-1,1))  # convert to previous prices for the maximal depth\n",
        "    print('\\n', 'Test MSE for maximal depth: ', results['mse_test'][-1])\n",
        "    print('Test MSE in terms of original prices for maximal depth: ', mse_test_price, '\\n')\n",
        "\n",
        "    return decisionTree, results\n",
        "\n",
        "\n",
        "def decisionTreePlot(decisionTree, results):\n",
        "    # Training and validation sets\n",
        "    plt.figure(figsize=(5, 3))\n",
        "    plt.plot(results['mse_train'])  # the training set\n",
        "    plt.plot(results['mse_val'])  # the validation set\n",
        "    plt.plot(results['mse_test'])  # the test set\n",
        "    plt.title('Decision Tree: MSE')\n",
        "    plt.xlabel(r'Depth')\n",
        "    xlim = results['max_depth']\n",
        "    plt.xlim([0, xlim-1])\n",
        "    xticks = [tick for tick in range(0,xlim)]\n",
        "    xtick_labels = [f'{tick+1}' for tick in range(0,xlim)]\n",
        "    plt.xticks(xticks, xtick_labels)\n",
        "\n",
        "\n",
        "    plt.legend(['Training set', 'Validation set', 'Test set'])\n",
        "    plt.show()\n",
        "    print('\\n\\n\\n')"
      ],
      "metadata": {
        "cellView": "form",
        "id": "oVMmceqApYhc"
      },
      "execution_count": 15,
      "outputs": []
    },
    {
      "cell_type": "code",
      "source": [
        "#@title #####*$\\ell_2$ Linear Regression*\n",
        "\n",
        "def linearRegTrain(dataset, intercept=False):\n",
        "\n",
        "    X_train = dataset['feature_train'];  y_train = dataset['target_train'].ravel()\n",
        "    # notice that there is no need here for the validation set, as there is no loop here (so there is no need to deduce from a validation set regarding hyperparameters)\n",
        "    X_test = dataset['feature_test'];  y_test = dataset['target_test']\n",
        "    inv_y_scale = dataset['inv_target_scale']\n",
        "    results = {'mse_train':np.array([]), 'mse_val':np.array([]), 'mse_test':np.array([])}\n",
        "\n",
        "    def leastSqaures(A_train, b, intercept, A_test):\n",
        "        if ~intercept:  # if intercept is not required\n",
        "            A_train = np.append(np.ones((A_train.shape[0], 1)), A_train, 1)  # append column of ones for free coefficient (Vendermonde)\n",
        "            A_test = np.append(np.ones((A_test.shape[0], 1)), A_test, 1)\n",
        "        AT_train = np.transpose(A_train)\n",
        "        return 0.5*np.linalg.inv(AT_train@A_train)@AT_train@b, A_train, A_test  # return least squares solution\n",
        "\n",
        "    print(\"\\033[4m$\\ell_2$ Linear Regression Training\\033[0m\", '\\n')\n",
        "\n",
        "    linearReg, A_train, A_test = leastSqaures(X_train, y_train, intercept, X_test)\n",
        "\n",
        "    y_pred_train = A_train@linearReg; y_pred_train = y_pred_train.reshape(-1,1)\n",
        "    mse_train = mean_squared_error(y_pred_train, y_train); results['mse_train'] = mse_train\n",
        "\n",
        "    y_pred = A_test@linearReg; y_pred = y_pred.reshape(-1,1)\n",
        "    mse_test = mean_squared_error(y_pred, y_test); results['mse_test'] = mse_test\n",
        "    mse_test_price = mean_squared_error(inv_y_scale(y_test), inv_y_scale(y_pred))\n",
        "    print('Training MSE: ', mse_train, '| Test MSE: ', mse_test, '\\n', 'Test MSE in terms of original prices: ', mse_test_price, '\\n\\n')\n",
        "\n",
        "    return linearReg, results"
      ],
      "metadata": {
        "cellView": "form",
        "id": "vcitI4cifQcf"
      },
      "execution_count": 36,
      "outputs": []
    },
    {
      "cell_type": "code",
      "source": [
        "# @title **Generate Tabular Dataset**👇\n",
        "\n",
        "# @markdown ## **Define a Tabular Dataset**\n",
        "# @markdown Tick for choosing a dataset from `sklearn.datasets` and enter its name. Else, the local `kaggle` dataset `weatherww2` is loaded.\n",
        "sklearn_dataset = False # @param {type:\"boolean\"}\n",
        "if sklearn_dataset:\n",
        "    module_name = \"sklearn.datasets\"\n",
        "    object_name = \"fetch_california_housing\" # @param {type:\"string\"}\n",
        "    dataset_object = dynamic_import(module_name, object_name)  # each row in this dataset is the average of several houses in one block\n",
        "    raw_dataset = pd.DataFrame(data = dataset_object())  # convert to a pandas DataFrame (for better treating of missing values)\n",
        "else:\n",
        "    path = '/content/drive/MyDrive/Colab_Notebooks/Machine_and_Deep_Learning/ML/melbourne_housing.csv'\n",
        "    dataset_object = pd.read_csv(path)\n",
        "    raw_dataset = dataset_object.drop(['Suburb', 'Address', 'Type','Method','SellerG','Date','CouncilArea','Regionname'], axis=1)  # delete these columns\n",
        "\n",
        "\n",
        "# Remove all rows with missing values (hence, it assumes that the data is highly non-sparse)\n",
        "# Removing missing values using `pandas` (treats all types of mssing values at once, unlike numpy)\n",
        "raw_dataset = raw_dataset.dropna(how='any')  # drop any row that has at least one NaN, either in the features\n",
        "\n",
        "\n",
        "# @markdown Set percentage of the validation and test sets out of the complete data (the remainder is the training set).\n",
        "val_per = 0.1 # @param {type:\"number\"}\n",
        "test_per = 0.2 # @param {type:\"number\"}\n",
        "\n",
        "\n",
        "# @markdown Set data scaler type (`minmax` or `standard`)\n",
        "scaler = 'minmax' # @param {type:\"string\"}\n",
        "\n",
        "\n",
        "# Create a tabular numeric dataset (clean and scale)\n",
        "if sklearn_dataset:\n",
        "    dataset = createTabularData(features=np.array(raw_dataset['data']), target=np.array(raw_dataset['target']),\n",
        "                      scaler=scaler, val_per=val_per, test_per=test_per)\n",
        "else: dataset = createTabularData(features=np.array(raw_dataset.drop('Price', axis=1)), target=np.array(raw_dataset['Price']).reshape(-1,1),\n",
        "                      scaler=scaler, val_per=val_per, test_per=test_per)"
      ],
      "metadata": {
        "id": "CQJlynFBWD77",
        "cellView": "form"
      },
      "execution_count": 17,
      "outputs": []
    },
    {
      "cell_type": "markdown",
      "source": [
        "# Training the Models"
      ],
      "metadata": {
        "id": "ABF_CzPR3YGx"
      }
    },
    {
      "cell_type": "code",
      "source": [
        "#@title **Set Hyperparameters**👇\n",
        "\n",
        "kNN = True\n",
        "decision_tree = True; max_depth_DT = 10\n",
        "bagged_trees = True ; n_estimators_BT = 100 ; max_depth_BT = 10;\n",
        "random_forest = True ; n_estimators_RF = 100 ; max_depth_RF = 10\n",
        "gradient_boosting = True ; n_estimators_GB = 100 ; max_depth_GB = 5 ; lr_GB = 0.1; num_epochs_GB = 5\n",
        "linear_regression = True ; intercept = False\n",
        "neural_network = True; hidden_dim_NN = 10 ; lr_NN = 0.01"
      ],
      "metadata": {
        "id": "DC6AHXBm3XnI"
      },
      "execution_count": 38,
      "outputs": []
    },
    {
      "cell_type": "code",
      "source": [
        "# Technically, for Decision Tree, Bagged Trees, Random Forest the process sould be as follows:\n",
        "# we train over the training set and validate over the validation set each time in the loop\n",
        "# (these loops fit a different model every time -- so it is just for visulization as there is no continuation between consecuitive models in the training loop).\n",
        "# then, we evaluate the best model over the validation sets only once over the test set -- and this is the final outcome.\n",
        "\n",
        "if decision_tree:\n",
        "    decisionTree, results_DT = decisionTreeRegTrain(dataset=dataset, max_depth=max_depth_DT)\n",
        "    decisionTreePlot(decisionTree, results_DT)\n",
        "\n",
        "# the different depth in the loop are just fir visualization, as every time a different model is trained!!\n",
        "if bagged_trees:\n",
        "    baggedTrees, results_BT = baggedTreesRegTrain(dataset=dataset, max_depth=max_depth_BT, n_estimators=n_estimators_BT)\n",
        "    baggedTreesPlot(baggedTrees, results_BT)\n",
        "\n",
        "# the different depth in the loop are just fir visualization, as every time a different model is trained!!\n",
        "if random_forest:\n",
        "    randomForest, results_RF = randomForestRegTrain(dataset=dataset, max_depth=max_depth_RF, n_estimators=n_estimators_RF)\n",
        "    randomForestPlot(randomForest, results_RF)\n",
        "\n",
        "\n",
        "if gradient_boosting:\n",
        "    gradBoost, results_GB = gradBoostRegTrain(dataset=dataset, num_epochs=num_epochs_GB, n_estimators=n_estimators_GB, lr=lr_GB, max_depth=max_depth_GB)\n",
        "    gradBoostPlot(gradBoost, results_GB)\n",
        "\n",
        "\n",
        "if linear_regression:\n",
        "    linearReg, results_LR = linearRegTrain(dataset=dataset)"
      ],
      "metadata": {
        "colab": {
          "base_uri": "https://localhost:8080/",
          "height": 1000
        },
        "id": "kGXmCIjWeRaq",
        "outputId": "f1f004fa-ea25-41ee-c4d3-9fe353d34333"
      },
      "execution_count": 41,
      "outputs": [
        {
          "output_type": "stream",
          "name": "stdout",
          "text": [
            "\u001b[4mDecision Tree Regressor Training\u001b[0m \n",
            "\n",
            "Depth 1 / 10\n",
            "Training MSE:  0.004571526055145694 | Validation MSE:  0.004217304411395307 | Test MSE:  0.004611761057289384 \n",
            "\n",
            "Depth 2 / 10\n",
            "Training MSE:  0.003526034539433057 | Validation MSE:  0.003096615007587845 | Test MSE:  0.0034851438708104064 \n",
            "\n",
            "Depth 3 / 10\n",
            "Training MSE:  0.002744061023959551 | Validation MSE:  0.0025177646380188834 | Test MSE:  0.0027532047975811352 \n",
            "\n",
            "Depth 4 / 10\n",
            "Training MSE:  0.002240820098152539 | Validation MSE:  0.002164934804800351 | Test MSE:  0.0025484968756593904 \n",
            "\n",
            "Depth 5 / 10\n",
            "Training MSE:  0.0018656597942343237 | Validation MSE:  0.0020970473967792057 | Test MSE:  0.002340158048680599 \n",
            "\n",
            "Depth 6 / 10\n",
            "Training MSE:  0.0015137031400493668 | Validation MSE:  0.0017524022345051262 | Test MSE:  0.00206884701344196 \n",
            "\n",
            "Depth 7 / 10\n",
            "Training MSE:  0.00125214892403073 | Validation MSE:  0.0016628591498841164 | Test MSE:  0.0018495243792600526 \n",
            "\n",
            "Depth 8 / 10\n",
            "Training MSE:  0.0010258009869467248 | Validation MSE:  0.001881478185615918 | Test MSE:  0.0017198968769026205 \n",
            "\n",
            "Depth 9 / 10\n",
            "Training MSE:  0.0008187985169165107 | Validation MSE:  0.0019304830484961387 | Test MSE:  0.0016874596876896217 \n",
            "\n",
            "Depth 10 / 10\n",
            "Training MSE:  0.000575401770974455 | Validation MSE:  0.0021910976930745755 | Test MSE:  0.001900742462941697 \n",
            "\n",
            "\n",
            " Test MSE for maximal depth:  0.001900742462941697\n",
            "Test MSE in terms of original prices for maximal depth:  149510807412.0675 \n",
            "\n"
          ]
        },
        {
          "output_type": "display_data",
          "data": {
            "text/plain": [
              "<Figure size 500x300 with 1 Axes>"
            ],
            "image/png": "[encoded data removed]"
          },
          "metadata": {}
        },
        {
          "output_type": "stream",
          "name": "stdout",
          "text": [
            "\n",
            "\n",
            "\n",
            "\n",
            "\u001b[4mBagged Trees Regressor Training\u001b[0m \n",
            "\n",
            "Depth 1 / 10\n",
            "Training MSE:  0.004446344343126241 | Validation MSE:  0.004038043693429002 | Test MSE:  0.00456736677363582 \n",
            "\n",
            "Depth 2 / 10\n",
            "Training MSE:  0.0033241145183868083 | Validation MSE:  0.0029073012397677167 | Test MSE:  0.003327984888036816 \n",
            "\n",
            "Depth 3 / 10\n",
            "Training MSE:  0.002546806777886126 | Validation MSE:  0.0023005343977564145 | Test MSE:  0.0025443376382329372 \n",
            "\n",
            "Depth 4 / 10\n",
            "Training MSE:  0.002019275604962507 | Validation MSE:  0.0018919333366294645 | Test MSE:  0.002173362075738029 \n",
            "\n",
            "Depth 5 / 10\n",
            "Training MSE:  0.0016057413460211847 | Validation MSE:  0.0016265495822714545 | Test MSE:  0.0018919647305494544 \n",
            "\n",
            "Depth 6 / 10\n",
            "Training MSE:  0.0012938989146656032 | Validation MSE:  0.0013397022905109503 | Test MSE:  0.0016209885710002923 \n",
            "\n",
            "Depth 7 / 10\n",
            "Training MSE:  0.0010763862261792354 | Validation MSE:  0.0012816847788805997 | Test MSE:  0.0014413154819070465 \n",
            "\n",
            "Depth 8 / 10\n",
            "Training MSE:  0.0008605522878372529 | Validation MSE:  0.0011741422771946617 | Test MSE:  0.0013843643078777425 \n",
            "\n",
            "Depth 9 / 10\n",
            "Training MSE:  0.000682174683460558 | Validation MSE:  0.0012169678316153341 | Test MSE:  0.001288372473387154 \n",
            "\n",
            "Depth 10 / 10\n",
            "Training MSE:  0.0005582616746595541 | Validation MSE:  0.0010797138539478653 | Test MSE:  0.0013140921691449086 \n",
            "\n",
            "\n",
            " Test MSE for maximal depth:  0.0013140921691449086\n",
            "Test MSE in terms of original prices for maximal depth:  103365387501.60858 \n",
            "\n"
          ]
        },
        {
          "output_type": "display_data",
          "data": {
            "text/plain": [
              "<Figure size 500x300 with 1 Axes>"
            ],
            "image/png": "[encoded data removed]"
          },
          "metadata": {}
        },
        {
          "output_type": "stream",
          "name": "stdout",
          "text": [
            "\n",
            "\n",
            "\n",
            "\n",
            "\u001b[4mRandom Forest Regressor Training\u001b[0m \n",
            "\n",
            "Depth 1 / 10\n"
          ]
        },
        {
          "output_type": "stream",
          "name": "stderr",
          "text": [
            "[Parallel(n_jobs=1)]: Done  49 tasks      | elapsed:    0.1s\n",
            "[Parallel(n_jobs=1)]: Done  49 tasks      | elapsed:    0.0s\n",
            "[Parallel(n_jobs=1)]: Done  49 tasks      | elapsed:    0.0s\n",
            "[Parallel(n_jobs=1)]: Done  49 tasks      | elapsed:    0.0s\n"
          ]
        },
        {
          "output_type": "stream",
          "name": "stdout",
          "text": [
            "Training MSE:  0.004434460518619743 | Validation MSE:  0.00362319974019896 | Test MSE:  0.004471407165026892 \n",
            "\n",
            "Depth 2 / 10\n"
          ]
        },
        {
          "output_type": "stream",
          "name": "stderr",
          "text": [
            "[Parallel(n_jobs=1)]: Done  49 tasks      | elapsed:    0.1s\n",
            "[Parallel(n_jobs=1)]: Done  49 tasks      | elapsed:    0.0s\n",
            "[Parallel(n_jobs=1)]: Done  49 tasks      | elapsed:    0.0s\n",
            "[Parallel(n_jobs=1)]: Done  49 tasks      | elapsed:    0.0s\n"
          ]
        },
        {
          "output_type": "stream",
          "name": "stdout",
          "text": [
            "Training MSE:  0.003433213048972702 | Validation MSE:  0.0027569751584491054 | Test MSE:  0.003491731217494017 \n",
            "\n",
            "Depth 3 / 10\n"
          ]
        },
        {
          "output_type": "stream",
          "name": "stderr",
          "text": [
            "[Parallel(n_jobs=1)]: Done  49 tasks      | elapsed:    0.2s\n",
            "[Parallel(n_jobs=1)]: Done  49 tasks      | elapsed:    0.0s\n",
            "[Parallel(n_jobs=1)]: Done  49 tasks      | elapsed:    0.0s\n",
            "[Parallel(n_jobs=1)]: Done  49 tasks      | elapsed:    0.0s\n"
          ]
        },
        {
          "output_type": "stream",
          "name": "stdout",
          "text": [
            "Training MSE:  0.0025573874520324223 | Validation MSE:  0.0020746027005581072 | Test MSE:  0.0026110110865301237 \n",
            "\n",
            "Depth 4 / 10\n"
          ]
        },
        {
          "output_type": "stream",
          "name": "stderr",
          "text": [
            "[Parallel(n_jobs=1)]: Done  49 tasks      | elapsed:    0.2s\n",
            "[Parallel(n_jobs=1)]: Done  49 tasks      | elapsed:    0.0s\n",
            "[Parallel(n_jobs=1)]: Done  49 tasks      | elapsed:    0.0s\n",
            "[Parallel(n_jobs=1)]: Done  49 tasks      | elapsed:    0.0s\n"
          ]
        },
        {
          "output_type": "stream",
          "name": "stdout",
          "text": [
            "Training MSE:  0.0019958775085729273 | Validation MSE:  0.001617943031356154 | Test MSE:  0.0021142542512949934 \n",
            "\n",
            "Depth 5 / 10\n"
          ]
        },
        {
          "output_type": "stream",
          "name": "stderr",
          "text": [
            "[Parallel(n_jobs=1)]: Done  49 tasks      | elapsed:    0.3s\n",
            "[Parallel(n_jobs=1)]: Done  49 tasks      | elapsed:    0.0s\n",
            "[Parallel(n_jobs=1)]: Done  49 tasks      | elapsed:    0.0s\n",
            "[Parallel(n_jobs=1)]: Done  49 tasks      | elapsed:    0.0s\n"
          ]
        },
        {
          "output_type": "stream",
          "name": "stdout",
          "text": [
            "Training MSE:  0.0016233207434391307 | Validation MSE:  0.0013412744091437694 | Test MSE:  0.0017542619207672186 \n",
            "\n",
            "Depth 6 / 10\n"
          ]
        },
        {
          "output_type": "stream",
          "name": "stderr",
          "text": [
            "[Parallel(n_jobs=1)]: Done  49 tasks      | elapsed:    0.3s\n",
            "[Parallel(n_jobs=1)]: Done  49 tasks      | elapsed:    0.0s\n",
            "[Parallel(n_jobs=1)]: Done  49 tasks      | elapsed:    0.0s\n",
            "[Parallel(n_jobs=1)]: Done  49 tasks      | elapsed:    0.0s\n"
          ]
        },
        {
          "output_type": "stream",
          "name": "stdout",
          "text": [
            "Training MSE:  0.0013397416532434532 | Validation MSE:  0.001177553244337658 | Test MSE:  0.001542516311285785 \n",
            "\n",
            "Depth 7 / 10\n"
          ]
        },
        {
          "output_type": "stream",
          "name": "stderr",
          "text": [
            "[Parallel(n_jobs=1)]: Done  49 tasks      | elapsed:    0.3s\n",
            "[Parallel(n_jobs=1)]: Done  49 tasks      | elapsed:    0.0s\n",
            "[Parallel(n_jobs=1)]: Done  49 tasks      | elapsed:    0.0s\n",
            "[Parallel(n_jobs=1)]: Done  49 tasks      | elapsed:    0.0s\n"
          ]
        },
        {
          "output_type": "stream",
          "name": "stdout",
          "text": [
            "Training MSE:  0.0011249734150813675 | Validation MSE:  0.001058646459897008 | Test MSE:  0.0013939729571024195 \n",
            "\n",
            "Depth 8 / 10\n"
          ]
        },
        {
          "output_type": "stream",
          "name": "stderr",
          "text": [
            "[Parallel(n_jobs=1)]: Done  49 tasks      | elapsed:    0.4s\n",
            "[Parallel(n_jobs=1)]: Done  49 tasks      | elapsed:    0.0s\n",
            "[Parallel(n_jobs=1)]: Done  49 tasks      | elapsed:    0.0s\n",
            "[Parallel(n_jobs=1)]: Done  49 tasks      | elapsed:    0.0s\n"
          ]
        },
        {
          "output_type": "stream",
          "name": "stdout",
          "text": [
            "Training MSE:  0.0008939434919089121 | Validation MSE:  0.0009559068017978642 | Test MSE:  0.001234734768075051 \n",
            "\n",
            "Depth 9 / 10\n"
          ]
        },
        {
          "output_type": "stream",
          "name": "stderr",
          "text": [
            "[Parallel(n_jobs=1)]: Done  49 tasks      | elapsed:    0.6s\n",
            "[Parallel(n_jobs=1)]: Done  49 tasks      | elapsed:    0.0s\n",
            "[Parallel(n_jobs=1)]: Done  49 tasks      | elapsed:    0.0s\n",
            "[Parallel(n_jobs=1)]: Done  49 tasks      | elapsed:    0.0s\n"
          ]
        },
        {
          "output_type": "stream",
          "name": "stdout",
          "text": [
            "Training MSE:  0.0007189581690567604 | Validation MSE:  0.0009072816950658961 | Test MSE:  0.0012100745974238682 \n",
            "\n",
            "Depth 10 / 10\n"
          ]
        },
        {
          "output_type": "stream",
          "name": "stderr",
          "text": [
            "[Parallel(n_jobs=1)]: Done  49 tasks      | elapsed:    0.6s\n",
            "[Parallel(n_jobs=1)]: Done  49 tasks      | elapsed:    0.0s\n",
            "[Parallel(n_jobs=1)]: Done  49 tasks      | elapsed:    0.0s\n",
            "[Parallel(n_jobs=1)]: Done  49 tasks      | elapsed:    0.0s\n"
          ]
        },
        {
          "output_type": "stream",
          "name": "stdout",
          "text": [
            "Training MSE:  0.0005585315961748364 | Validation MSE:  0.0008762893206990367 | Test MSE:  0.0011391991195674337 \n",
            "\n",
            "\n",
            " Test MSE for maximal depth:  0.0011391991195674337\n",
            "Test MSE in terms of original prices for maximal depth:  89608446957.113 \n",
            "\n"
          ]
        },
        {
          "output_type": "display_data",
          "data": {
            "text/plain": [
              "<Figure size 500x300 with 1 Axes>"
            ],
            "image/png": "[encoded data removed]"
          },
          "metadata": {}
        },
        {
          "output_type": "stream",
          "name": "stdout",
          "text": [
            "\n",
            "\n",
            "\n",
            "\n",
            "\u001b[4mGradient Boosting Regressor Training\u001b[0m \n",
            "\n",
            "Notice: validation_0=Training Set, validation_1=Validation Set \n",
            "\n",
            "Epoch  1 / 5\n",
            "[0]\tvalidation_0-rmse:0.07213\tvalidation_1-rmse:0.06531\n",
            "[99]\tvalidation_0-rmse:0.02255\tvalidation_1-rmse:0.02969\n",
            "Epoch  2 / 5\n",
            "[0]\tvalidation_0-rmse:0.02253\tvalidation_1-rmse:0.02970\n",
            "[99]\tvalidation_0-rmse:0.01819\tvalidation_1-rmse:0.02906\n",
            "Epoch  3 / 5\n",
            "[0]\tvalidation_0-rmse:0.01815\tvalidation_1-rmse:0.02905\n",
            "[99]\tvalidation_0-rmse:0.01568\tvalidation_1-rmse:0.02887\n",
            "Epoch  4 / 5\n",
            "[0]\tvalidation_0-rmse:0.01564\tvalidation_1-rmse:0.02886\n",
            "[99]\tvalidation_0-rmse:0.01348\tvalidation_1-rmse:0.02895\n",
            "Epoch  5 / 5\n",
            "[0]\tvalidation_0-rmse:0.01345\tvalidation_1-rmse:0.02897\n",
            "[99]\tvalidation_0-rmse:0.01188\tvalidation_1-rmse:0.02890\n",
            "\n",
            " Test MSE:  0.0010191501735166292\n",
            "Test MSE in terms of original prices:  80165497939.35774 \n",
            "\n"
          ]
        },
        {
          "output_type": "display_data",
          "data": {
            "text/plain": [
              "<Figure size 500x300 with 1 Axes>"
            ],
            "image/png": "[encoded data removed]"
          },
          "metadata": {}
        },
        {
          "output_type": "stream",
          "name": "stdout",
          "text": [
            "\n",
            "\n",
            "\n",
            "\n",
            "\u001b[4m$\\ell_2$ Linear Regression Training\u001b[0m \n",
            "\n",
            "Training MSE:  0.006273091767099563 | Test MSE:  0.006404290446434934 \n",
            " Test MSE in terms of original prices:  503756113316.8874 \n",
            "\n",
            "\n"
          ]
        }
      ]
    },
    {
      "cell_type": "code",
      "source": [
        "# #@title **Set Hyperparameters**👇\n",
        "# #@markdown Number of epochs (for all methods):\n",
        "# #@markdown ---\n",
        "\n",
        "\n",
        "# num_epochs = 2 # @param {type:\"integer\"}\n",
        "# #@markdown ---\n",
        "# #@markdown Choose regressors and set their hyperparameters:\n",
        "# #@markdown ---\n",
        "# decision_tree = True # @param {type:\"boolean\"}\n",
        "# max_depth_DT = 5 # @param {type:\"integer\"}\n",
        "# #@markdown ---\n",
        "# bagged_trees = True # @param {type:\"boolean\"}\n",
        "# n_estimators_BT = 100 # @param {type:\"integer\"}\n",
        "# max_depth_BT = 5 # @param {type:\"integer\"}\n",
        "# #@markdown ---\n",
        "# random_forest = True # @param {type:\"boolean\"}\n",
        "# n_estimators_RF = 100 # @param {type:\"integer\"}\n",
        "# max_depth_RF = 5 # @param {type:\"integer\"}\n",
        "# #@markdown ---\n",
        "# gradient_boosting = True # @param {type:\"boolean\"}\n",
        "# n_estimators_GB = 100 # @param {type:\"integer\"}\n",
        "# max_depth_GB = 5 # @param {type:\"integer\"}\n",
        "# lr_GB = 0.1 # @param {type:\"number\"}\n",
        "# #@markdown ---\n",
        "# linear_regression = True # @param {type:\"boolean\"}\n",
        "# #@markdown ---\n",
        "# neural_network = True # @param {type:\"boolean\"}\n",
        "# hidden_dim_NN = 10 # @param {type:\"integer\"}\n",
        "# lr_NN = 0.01 # @param {type:\"number\"}"
      ],
      "metadata": {
        "id": "ve9n6_M9HRBD"
      },
      "execution_count": null,
      "outputs": []
    }
  ]
}