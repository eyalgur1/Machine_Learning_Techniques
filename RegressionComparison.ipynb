{
  "nbformat": 4,
  "nbformat_minor": 0,
  "metadata": {
    "colab": {
      "provenance": [],
      "collapsed_sections": [
        "6yyNo_ZWF8FO"
      ],
      "authorship_tag": "ABX9TyPgvId5WoZpr0IBg+zD3VU8",
      "include_colab_link": true
    },
    "kernelspec": {
      "name": "python3",
      "display_name": "Python 3"
    },
    "language_info": {
      "name": "python"
    }
  },
  "cells": [
    {
      "cell_type": "markdown",
      "metadata": {
        "id": "view-in-github",
        "colab_type": "text"
      },
      "source": [
        "<a href=\"https://colab.research.google.com/github/eyalgur1/Machine_Learning_Techniques/blob/main/RegressionComparison.ipynb\" target=\"_parent\"><img src=\"https://colab.research.google.com/assets/colab-badge.svg\" alt=\"Open In Colab\"/></a>"
      ]
    },
    {
      "cell_type": "markdown",
      "source": [
        "## **Packages and Data Generation**🚫"
      ],
      "metadata": {
        "id": "6yyNo_ZWF8FO"
      }
    },
    {
      "cell_type": "code",
      "execution_count": 153,
      "metadata": {
        "id": "nyEFhLyrVFWh",
        "cellView": "form"
      },
      "outputs": [],
      "source": [
        "#@title **Import Packages**🚫\n",
        "import numpy as np\n",
        "import pandas as pd\n",
        "import matplotlib.pyplot as plt\n",
        "import cvxpy as cvx\n",
        "from IPython.display import Latex\n",
        "import sklearn\n",
        "import sklearn.ensemble\n",
        "import sklearn.tree\n",
        "import sklearn.datasets\n",
        "from sklearn.model_selection import train_test_split\n",
        "from sklearn.metrics import mean_squared_error\n",
        "import torch\n",
        "import torch.nn as nn\n",
        "import xgboost as xgb\n",
        "import importlib\n",
        "plt.rcParams.update({\n",
        "    \"text.usetex\": True,             # Use LaTeX for all text\n",
        "    \"font.family\": \"serif\",          # Use serif fonts\n",
        "    \"font.serif\": [\"Computer Modern Roman\"],  # Use Computer Modern Roman font\n",
        "    \"text.latex.preamble\": r\"\\usepackage{amsmath}\",  # Load additional packages\n",
        "    \"font.size\": 16,                 # Default font size\n",
        "    \"axes.titlesize\": 18,            # Title font size\n",
        "    \"axes.labelsize\": 14,            # Axis labels font size\n",
        "    \"xtick.labelsize\": 14,           # X-tick labels font size\n",
        "    \"ytick.labelsize\": 14,           # Y-tick labels font size\n",
        "    \"legend.fontsize\": 14\n",
        "})\n",
        "\n",
        "#from google.colab import drive\n",
        "#drive.mount(\"/content/drive/\")"
      ]
    },
    {
      "cell_type": "code",
      "source": [
        "!sudo apt-get update\n",
        "!sudo apt-get install -y texlive texlive-latex-extra dvipng texlive-fonts-recommended cm-super"
      ],
      "metadata": {
        "colab": {
          "base_uri": "https://localhost:8080/"
        },
        "id": "h9BTClslJWBk",
        "outputId": "b9d55bfa-6395-4229-9b0b-57e5ffc1ae8b"
      },
      "execution_count": 143,
      "outputs": [
        {
          "output_type": "stream",
          "name": "stdout",
          "text": [
            "\r0% [Working]\r            \rHit:1 https://cloud.r-project.org/bin/linux/ubuntu jammy-cran40/ InRelease\n",
            "\r0% [Connecting to archive.ubuntu.com (185.125.190.36)] [Connecting to security.\r                                                                               \rHit:2 https://developer.download.nvidia.com/compute/cuda/repos/ubuntu2204/x86_64  InRelease\n",
            "\r0% [Waiting for headers] [Waiting for headers] [Connected to ppa.launchpadconte\r                                                                               \rHit:3 http://archive.ubuntu.com/ubuntu jammy InRelease\n",
            "Hit:4 http://security.ubuntu.com/ubuntu jammy-security InRelease\n",
            "Hit:5 http://archive.ubuntu.com/ubuntu jammy-updates InRelease\n",
            "Hit:6 http://archive.ubuntu.com/ubuntu jammy-backports InRelease\n",
            "Hit:7 https://ppa.launchpadcontent.net/c2d4u.team/c2d4u4.0+/ubuntu jammy InRelease\n",
            "Hit:8 https://ppa.launchpadcontent.net/deadsnakes/ppa/ubuntu jammy InRelease\n",
            "Hit:9 https://ppa.launchpadcontent.net/graphics-drivers/ppa/ubuntu jammy InRelease\n",
            "Hit:10 https://ppa.launchpadcontent.net/ubuntugis/ppa/ubuntu jammy InRelease\n",
            "Reading package lists... Done\n",
            "Reading package lists... Done\n",
            "Building dependency tree... Done\n",
            "Reading state information... Done\n",
            "dvipng is already the newest version (1.15-1.1).\n",
            "texlive is already the newest version (2021.20220204-1).\n",
            "texlive-fonts-recommended is already the newest version (2021.20220204-1).\n",
            "texlive-latex-extra is already the newest version (2021.20220204-1).\n",
            "The following additional packages will be installed:\n",
            "  cm-super-minimal pfb2t1c2pfb\n",
            "The following NEW packages will be installed:\n",
            "  cm-super cm-super-minimal pfb2t1c2pfb\n",
            "0 upgraded, 3 newly installed, 0 to remove and 51 not upgraded.\n",
            "Need to get 26.0 MB of archives.\n",
            "After this operation, 59.9 MB of additional disk space will be used.\n",
            "Get:1 http://archive.ubuntu.com/ubuntu jammy/universe amd64 cm-super-minimal all 0.3.4-17 [5,777 kB]\n",
            "Get:2 http://archive.ubuntu.com/ubuntu jammy/universe amd64 pfb2t1c2pfb amd64 0.3-11 [9,342 B]\n",
            "Get:3 http://archive.ubuntu.com/ubuntu jammy/universe amd64 cm-super all 0.3.4-17 [20.2 MB]\n",
            "Fetched 26.0 MB in 2s (16.5 MB/s)\n",
            "debconf: unable to initialize frontend: Dialog\n",
            "debconf: (No usable dialog-like program is installed, so the dialog based frontend cannot be used. at /usr/share/perl5/Debconf/FrontEnd/Dialog.pm line 78, <> line 3.)\n",
            "debconf: falling back to frontend: Readline\n",
            "debconf: unable to initialize frontend: Readline\n",
            "debconf: (This frontend requires a controlling tty.)\n",
            "debconf: falling back to frontend: Teletype\n",
            "dpkg-preconfigure: unable to re-open stdin: \n",
            "Selecting previously unselected package cm-super-minimal.\n",
            "(Reading database ... 158251 files and directories currently installed.)\n",
            "Preparing to unpack .../cm-super-minimal_0.3.4-17_all.deb ...\n",
            "Unpacking cm-super-minimal (0.3.4-17) ...\n",
            "Selecting previously unselected package pfb2t1c2pfb.\n",
            "Preparing to unpack .../pfb2t1c2pfb_0.3-11_amd64.deb ...\n",
            "Unpacking pfb2t1c2pfb (0.3-11) ...\n",
            "Selecting previously unselected package cm-super.\n",
            "Preparing to unpack .../cm-super_0.3.4-17_all.deb ...\n",
            "Unpacking cm-super (0.3.4-17) ...\n",
            "Setting up pfb2t1c2pfb (0.3-11) ...\n",
            "Setting up cm-super-minimal (0.3.4-17) ...\n",
            "Setting up cm-super (0.3.4-17) ...\n",
            "Creating fonts. This may take some time... done.\n",
            "Processing triggers for man-db (2.10.2-1) ...\n",
            "Processing triggers for tex-common (6.17) ...\n",
            "debconf: unable to initialize frontend: Dialog\n",
            "debconf: (No usable dialog-like program is installed, so the dialog based frontend cannot be used. at /usr/share/perl5/Debconf/FrontEnd/Dialog.pm line 78.)\n",
            "debconf: falling back to frontend: Readline\n",
            "Running mktexlsr. This may take some time... done.\n",
            "Running updmap-sys. This may take some time... done.\n",
            "Running mktexlsr /var/lib/texmf ... done.\n",
            "Processing triggers for fontconfig (2.13.1-4.2ubuntu5) ...\n"
          ]
        }
      ]
    },
    {
      "cell_type": "code",
      "source": [
        "#@title **Functions for Generation of Tabular Data**🚫\n",
        "\n",
        "def createTabularData(features, target, scaler, val_per, test_per):\n",
        "    # Input:\n",
        "    # features: a numerical array of column features\n",
        "    # target: a numerical array of target labels\n",
        "    # scaler: a string with 'minmax' or 'standard' data scaler\n",
        "    # Output:\n",
        "    # dataset: dictionary with 6 items: feature_train/val/test and target_train/val/test\n",
        "\n",
        "\n",
        "    # Split to train/validation/test sets (before preprocessing)\n",
        "    X_train_pre, X_remain, y_train_pre, y_remain = train_test_split(features, target.reshape(-1,1), test_size=val_per+test_per, random_state=1)  # split and fix the seed\n",
        "    X_val_pre, X_test_pre, y_val_pre, y_test_pre = train_test_split(X_remain, y_remain, test_size=test_per/(val_per+test_per), random_state=1)\n",
        "\n",
        "\n",
        "    # Initialize scalers to normalize the data to have the same scale\n",
        "    if scaler.lower() in ['minmax']:\n",
        "        scaler_X = sklearn.preprocessing.MinMaxScaler()  # initializes a scaler that scales any column to [0,1] (column-wise)\n",
        "        scaler_y = sklearn.preprocessing.MinMaxScaler()  # scaler for y\n",
        "    elif scaler.lower() in ['standard']:\n",
        "        scaler_X = sklearn.preprocessing.StandardScaler()  # initializes a scaler by removing the mean and scaling to unit variance (column-wise)\n",
        "        scaler_y = sklearn.preprocessing.StandardScaler()  # scaler for y\n",
        "    else:\n",
        "        raise ValueError(\"No scaler named '\"+scaler.lower()+\"'. Set scaler='minmax' or scaler='standard'.\")\n",
        "\n",
        "\n",
        "    # Scale the data according to the training set\n",
        "    # Tranforms that data according to the limits already set by the training set\n",
        "    X_train = scaler_X.fit_transform(X_train_pre)\n",
        "    X_val, X_test = (scaler_X.transform(X_val_pre), scaler_X.transform(X_test_pre))\n",
        "    y_train = scaler_y.fit_transform(y_train_pre)\n",
        "    y_val, y_test = (scaler_y.transform(y_val_pre), scaler_y.transform(y_test_pre))\n",
        "\n",
        "\n",
        "    tabular_train_dataset = dict(feature_train = X_train, target_train = y_train)\n",
        "    tabular_val_dataset = dict(feature_val = X_val, target_val = y_val)\n",
        "    tabular_test_dataset = dict(feature_test = X_test, target_test = y_test)\n",
        "    inverse_scalers = dict(inv_feature_scale = scaler_X.inverse_transform,\n",
        "                           inv_target_scale = scaler_y.inverse_transform)\n",
        "    return tabular_train_dataset, tabular_val_dataset, tabular_test_dataset, inverse_scalers\n",
        "\n",
        "\n",
        "# Auxiliary function for dynamic data import by the user\n",
        "def dynamic_import(module_name: str, object_name: str):\n",
        "    # Import the module dynamically\n",
        "    module = importlib.import_module(module_name)\n",
        "\n",
        "    # Import the specific object from the module\n",
        "    imported_object = getattr(module, object_name)\n",
        "\n",
        "    return imported_object"
      ],
      "metadata": {
        "id": "kpviYl1uJSBc",
        "cellView": "form"
      },
      "execution_count": 120,
      "outputs": []
    },
    {
      "cell_type": "markdown",
      "source": [
        "## **Implementation of Regressors**🚫"
      ],
      "metadata": {
        "id": "ryeDkNXnFehn"
      }
    },
    {
      "cell_type": "code",
      "source": [
        "#@title **Functions for Instantiation of Regressors**🚫\n",
        "#@markdown For the regression task, we use the following six regressors: Decision Tree, Bagged Trees, Random Forest, Gradient Boosting, Linear Regression, and Neural Network.\n",
        "\"Decision Tree\"\n",
        "# Decision tree regressor: predicts the value of a target variable by learning simple (if-then-else) decision rules.\n",
        "# A tree can be seen as a piecewise constant approximation.\n",
        "def decisionTreeReg(max_depth):\n",
        "    return sklearn.tree.DecisionTreeRegressor(max_depth=max_depth)\n",
        "\n",
        "\n",
        "\"Bagged Trees\"\n",
        "# Bagging regressor: fits base regressors each on random subsets of the original dataset,\n",
        "# and then aggregates their individual predictions (by averaging) to form a final prediction.\n",
        "# Reduces the variance of an estimator by introducing randomization.\n",
        "# This implementaion considers all dataset (hence, just shuffles the data for each tree).\n",
        "# def baggedTreesReg(n_estimators, max_depth):\n",
        "#     return sklearn.ensemble.BaggingRegressor(estimator=sklearn.tree.DecisionTreeRegressor(max_depth=max_depth),\n",
        "#                                          n_estimators=n_estimators, verbose = 1,\n",
        "#                                          warm_start = True)\n",
        "\n",
        "\n",
        "\"Random Forest\"\n",
        "# Random forest regressor: fits a number of decision tree regressors on (possibly various random sub-samples of) the dataset,\n",
        "# by randomly selecting a sub-set of the features at each split,\n",
        "# and averages to improve the predictive accuracy and control over-fitting.\n",
        "# Equivalent to Bagged Trees if selecting all features at each split.\n",
        "# This implementaion considers all dataset (hence, just shuffles the data for each tree).\n",
        "def randomForestReg(n_estimators, max_depth):\n",
        "    return sklearn.ensemble.RandomForestRegressor(n_estimators=n_estimators, max_depth=max_depth, max_features = \"sqrt\")\n",
        "\n",
        "\n",
        "\"Gradient Boosting\"\n",
        "# Gradient boosting regressor: a functional gradient descent on fitted trees,\n",
        "# where at iteration we fit a tree using the previous fits as a \"descent direction\".\n",
        "# Here we use XGBoost as an API for sklearn.\n",
        "#def gradBoostReg(n_estimators, max_depth, lr):\n",
        " #   return xgb.XGBRegressor(objective='reg:squarederror', n_estimators=n_estimators,\n",
        "  #                               learning_rate=lr, max_depth=max_depth, eval_metric=['rmse'])\n",
        "\n",
        "\n",
        "\"Linear Regression\"\n",
        "# Linear regressor: a simple l2-regression with exact solution.\n",
        "# Using a polynomial linear regression for multi-feature setting is expensive,\n",
        "# as the Vandermonde matrix is too large for accurate inversion even when the poly degree is small.\n",
        "# For a polynomial linear regression, one can use gradient descent.\n",
        "def linearReg(intercept=False):\n",
        "    def leastSqaures(A, b):\n",
        "        if ~intercept:  # if intercept is not required\n",
        "            A = np.append(np.ones((A.shape[0], 1)), A, 1)  # append column of ones for free coefficient (Vendermonde)\n",
        "        AT = np.transpose(A)\n",
        "        return 0.5*np.linalg.inv(AT@A)@AT@b  # return least squares solution\n",
        "    return leastSqaures\n",
        "\n",
        "\n",
        "\"Neuarl Network\"\n",
        "# Neural network regressor: a simple regression PyTorch net with one hidden layer.\n",
        "# The activation function is ReLU, optimizer is Adam, loss is MSELoss, and lr is given by the user.\n",
        "# This function returns the model, criterion (loss), and the optimizer.\n",
        "def neuralNetReg(input_dim, hidden_dim, output_dim, lr):\n",
        "\n",
        "    class SimpleRegressionModel(nn.Module):\n",
        "        def __init__(self, input_dim, hidden_dim, output_dim):\n",
        "            super(SimpleRegressionModel, self).__init__()\n",
        "            self.hidden = nn.Linear(input_dim, hidden_dim)\n",
        "            self.relu = nn.ReLU()\n",
        "            self.output = nn.Linear(hidden_dim, output_dim)\n",
        "\n",
        "        def forward(self, x):\n",
        "            x = self.hidden(x)\n",
        "            x = self.relu(x)\n",
        "            x = self.output(x)\n",
        "\n",
        "    model = SimpleRegressionModel(input_dim, hidden_dim, output_dim)\n",
        "    criterion = nn.MSELoss()\n",
        "    optimizer = torch.optim.Adam(model.parameters(), lr=lr)\n",
        "    return model, criterion, optimizer"
      ],
      "metadata": {
        "id": "Zfgtqzq5oqI1",
        "cellView": "form"
      },
      "execution_count": null,
      "outputs": []
    },
    {
      "cell_type": "code",
      "source": [
        "#@title *Gradient Boosting Trainer*\n",
        "def gradBoostRegTrain(data_train, data_val, data_test, num_epochs, n_estimators, lr, max_depth):\n",
        "\n",
        "    gradBoost = xgb.XGBRegressor(objective='reg:squarederror', n_estimators = n_estimators,\n",
        "                                 learning_rate = lr, max_depth = max_depth, eval_metric = ['rmse'])\n",
        "\n",
        "    X_train = data_train['feature_train'];  y_train = data_train['target_train']\n",
        "    X_test = data_test['feature_test'];  y_test = data_test['target_test']\n",
        "    eval_set = [(X_train, y_train), (data_val['feature_val'], data_val['target_val'])]\n",
        "    verbosity = gradBoost.n_estimators\n",
        "    results = {'mse_train':np.array([]), 'mse_val':np.array([]), 'mse_test':0}\n",
        "\n",
        "    print(\"\\033[4mGradient Boosting Regressor Training\\033[0m\", '\\n')\n",
        "    print(\"Notice: validation_0=Training Set, validation_1=Validation Set\", '\\n')\n",
        "\n",
        "\n",
        "    # Training loop\n",
        "    for epoch in range(num_epochs):\n",
        "        print('Epoch ', str(epoch+1), '/', str(num_epochs))\n",
        "        if epoch == 0:  # first epoch\n",
        "            gradBoost.fit(X_train, y_train, eval_set=eval_set, verbose=verbosity)\n",
        "            # eval_set: the data on which to track metric evaluation; can also be set as eval_set=[(X_train, y_train)]; eval_set is not used for training\n",
        "            # verbose: integer specifying the intervals of trees to specify metrics for (out of n_estimators in total)\n",
        "        else:\n",
        "            gradBoost.fit(X_train, y_train, eval_set=eval_set, verbose=verbosity, xgb_model=gradBoost.get_booster())\n",
        "            # after the first epoch, we use the previous fitted model as starting point with the command xgb_model=xgb_model.get_booster()\n",
        "\n",
        "\n",
        "        # Save MSE for later plotting\n",
        "        results_epoch = gradBoost.evals_result()\n",
        "        results['mse_train'] = np.append(results['mse_train'], np.array(results_epoch['validation_0']['rmse'])**2)\n",
        "        results['mse_val'] = np.append(results['mse_val'], np.array(results_epoch['validation_1']['rmse'])**2)\n",
        "\n",
        "    y_pred = gradBoost.predict(X_test).ravel()\n",
        "    results['mse_test'] = mean_squared_error(y_test, y_pred)\n",
        "\n",
        "    return gradBoost, results\n",
        "\n",
        "\n",
        "def gradBoostPlot(gradBoost, results):\n",
        "    # Training and validation sets\n",
        "    plt.semilogy(results['mse_train'])  # the training set\n",
        "    plt.semilogy(results['mse_val'])  # the validation set\n",
        "    plt.title('Gradient Boosting: MSE')\n",
        "    plt.xlabel(r'Iterations (Number of trees $\\times$ Number of epochs)')\n",
        "    plt.legend(['Training set','Validation set'])\n",
        "    xlim = gradBoost.n_estimators*num_epochs\n",
        "    plt.xlim([0, xlim])\n",
        "\n",
        "    # Test set prediction\n",
        "    plt.semilogy(np.ones((xlim, 1))*results['mse_test'])\n",
        "    plt.legend(['Training set', 'Validation set', 'Test set output'])\n",
        "    plt.show()\n",
        "\n",
        "gradBoost, results = gradBoostRegTrain(data_train, data_val, data_test, num_epochs, n_estimators_GB, lr_GB, max_depth_GB)\n",
        "gradBoostPlot(gradBoost, results)"
      ],
      "metadata": {
        "id": "5MDLE_nR9Uv0",
        "colab": {
          "base_uri": "https://localhost:8080/",
          "height": 658
        },
        "outputId": "933d3fa3-2fae-421f-cdfe-8d5ef4a79785",
        "cellView": "form"
      },
      "execution_count": 154,
      "outputs": [
        {
          "output_type": "stream",
          "name": "stdout",
          "text": [
            "\u001b[4mGradient Boosting Regressor Training\u001b[0m \n",
            "\n",
            "Notice: validation_0=Training Set, validation_1=Validation Set \n",
            "\n",
            "Epoch  1 / 2\n",
            "[0]\tvalidation_0-rmse:0.07148\tvalidation_1-rmse:0.06514\n",
            "[99]\tvalidation_0-rmse:0.02335\tvalidation_1-rmse:0.02766\n",
            "Epoch  2 / 2\n",
            "[0]\tvalidation_0-rmse:0.02333\tvalidation_1-rmse:0.02765\n",
            "[99]\tvalidation_0-rmse:0.01863\tvalidation_1-rmse:0.02827\n"
          ]
        },
        {
          "output_type": "display_data",
          "data": {
            "text/plain": [
              "<Figure size 640x480 with 1 Axes>"
            ],
            "image/png": "[encoded data removed]"
          },
          "metadata": {}
        }
      ]
    },
    {
      "cell_type": "code",
      "source": [
        "#@title *Bagged Trees Trainer*\n",
        "\n",
        "def baggedTreesRegTrain(data_train, data_val, num_epochs, max_depth, n_estimators):\n",
        "\n",
        "    X_train = data_train['feature_train'];  y_train = data_train['target_train'].ravel()\n",
        "    X_val = data_val['feature_val']; y_val = data_val['target_val']\n",
        "    trees_per_epoch = n_estimators // num_epochs\n",
        "    results = {'train_mse':np.array([]), 'val_mse':np.array([])}\n",
        "\n",
        "    baggedTrees = sklearn.ensemble.BaggingRegressor(estimator=sklearn.tree.DecisionTreeRegressor(max_depth=max_depth),\n",
        "                                         n_estimators = trees_per_epoch, verbose = 1,\n",
        "                                         warm_start = True)\n",
        "\n",
        "    print(\"\\033[4mBagged Trees Regressor Training\\033[0m\", '\\n')\n",
        "\n",
        "\n",
        "    # Training loop\n",
        "    for epoch in range(num_epochs):\n",
        "        print('Epoch', str(epoch+1), '/', str(num_epochs), '|| #estimators:', baggedTrees.n_estimators)\n",
        "        baggedTrees.fit(X_train, y_train)\n",
        "\n",
        "        y_epoch_train = baggedTrees.predict(X_train); mse_train = mean_squared_error(y_train, y_epoch_train)\n",
        "        y_epoch_val = baggedTrees.predict(X_val); mse_val = mean_squared_error(y_val, y_epoch_val)\n",
        "        print('Training MSE: ', mse_train, '| Validation MSE: ', mse_val, '\\n')\n",
        "\n",
        "        # Save MSE for later plotting\n",
        "        results['train_mse'] = np.append(results['train_mse'], mse_train)\n",
        "        results['val_mse'] = np.append(results['val_mse'], mse_val)\n",
        "\n",
        "        baggedTrees.n_estimators += trees_per_epoch\n",
        "\n",
        "    return baggedTrees, results\n",
        "baggedTrees, results = baggedTreesRegTrain(data_train, data_val, num_epochs, max_depth_BT, n_estimators_BT)"
      ],
      "metadata": {
        "colab": {
          "base_uri": "https://localhost:8080/"
        },
        "id": "yHnIxG25HBG-",
        "outputId": "655a4ba7-1b89-4fbf-be06-c363e730a6cd",
        "cellView": "form"
      },
      "execution_count": 155,
      "outputs": [
        {
          "output_type": "stream",
          "name": "stdout",
          "text": [
            "\u001b[4mBagged Trees Regressor Training\u001b[0m \n",
            "\n",
            "Epoch 1 / 2 || #estimators: 50\n",
            "Training MSE:  0.0015466265401446416 | Validation MSE:  0.0014304989964642307 \n",
            "\n",
            "Epoch 2 / 2 || #estimators: 100\n",
            "Training MSE:  0.0015491632775057973 | Validation MSE:  0.0014392112227484518 \n",
            "\n"
          ]
        }
      ]
    },
    {
      "cell_type": "code",
      "source": [
        "# @title **Generate Tabular Dataset**👇\n",
        "\n",
        "# @markdown ## **Define a Tabular Dataset**\n",
        "# @markdown Tick for choosing a dataset from `sklearn.datasets` and enter its name. Else, the local `kaggle` dataset `weatherww2` is loaded.\n",
        "sklearn_dataset = False # @param {type:\"boolean\"}\n",
        "if sklearn_dataset:\n",
        "    module_name = \"sklearn.datasets\"\n",
        "    object_name = \"fetch_california_housing\" # @param {type:\"string\"}\n",
        "    dataset_object = dynamic_import(module_name, object_name)  # each row in this dataset is the average of several houses in one block\n",
        "    raw_dataset = pd.DataFrame(data = dataset_object())  # convert to a pandas DataFrame (for better treating of missing values)\n",
        "else:\n",
        "    path = '/content/drive/MyDrive/Colab_Notebooks/Machine_and_Deep_Learning/ML/melbourne_housing.csv'\n",
        "    dataset_object = pd.read_csv(path)\n",
        "    dataset_object = dataset_object.drop(['Suburb', 'Address', 'Type','Method','SellerG','Date','CouncilArea','Regionname'], axis=1)  # delete these columns\n",
        "\n",
        "\n",
        "# Remove all rows with missing values (hence, it assumes that the data is highly non-sparse)\n",
        "# Removing missing values using `pandas` (treats all types of mssing values at once, unlike numpy)\n",
        "raw_dataset = raw_dataset.dropna(how='any')  # drop any row that has at least one NaN, either in the features\n",
        "\n",
        "\n",
        "# @markdown Set percentage of the validation and test sets out of the complete data (the remainder is the training set).\n",
        "val_per = 0.1 # @param {type:\"number\"}\n",
        "test_per = 0.1 # @param {type:\"number\"}\n",
        "\n",
        "\n",
        "# @markdown Set data scaler type (`minmax` or `standard`)\n",
        "scaler = 'minmax' # @param {type:\"string\"}\n",
        "\n",
        "\n",
        "# Create a tabular numeric dataset (clean and scale)\n",
        "if sklearn_dataset:\n",
        "    data_train, data_val, data_test, inverse_scalers = createTabularData(features=np.array(raw_dataset['data']), target=np.array(raw_dataset['target']),\n",
        "                      scaler=scaler, val_per=val_per, test_per=test_per)\n",
        "else: data_train, data_val, data_test, inverse_scalers = createTabularData(features=np.array(raw_dataset.drop('Price', axis=1)), target=np.array(raw_dataset['Price']).reshape(-1,1),\n",
        "                      scaler=scaler, val_per=val_per, test_per=test_per)"
      ],
      "metadata": {
        "id": "CQJlynFBWD77"
      },
      "execution_count": 121,
      "outputs": []
    },
    {
      "cell_type": "markdown",
      "source": [
        "# Training the Models"
      ],
      "metadata": {
        "id": "ABF_CzPR3YGx"
      }
    },
    {
      "cell_type": "code",
      "source": [
        "#@title **Set Hyperparameters**👇\n",
        "#@markdown Number of epochs (for all methods):\n",
        "#@markdown ---\n",
        "\n",
        "\n",
        "num_epochs = 2 # @param {type:\"integer\"}\n",
        "#@markdown ---\n",
        "#@markdown Choose regressors and set their hyperparameters:\n",
        "#@markdown ---\n",
        "decision_tree = True # @param {type:\"boolean\"}\n",
        "max_depth_DT = 5 # @param {type:\"integer\"}\n",
        "#@markdown ---\n",
        "bagged_trees = True # @param {type:\"boolean\"}\n",
        "n_estimators_BT = 100 # @param {type:\"integer\"}\n",
        "max_depth_BT = 5 # @param {type:\"integer\"}\n",
        "#@markdown ---\n",
        "random_forest = True # @param {type:\"boolean\"}\n",
        "n_estimators_RF = 100 # @param {type:\"integer\"}\n",
        "max_depth_RF = 5 # @param {type:\"integer\"}\n",
        "#@markdown ---\n",
        "gradient_boosting = True # @param {type:\"boolean\"}\n",
        "n_estimators_GB = 100 # @param {type:\"integer\"}\n",
        "max_depth_GB = 5 # @param {type:\"integer\"}\n",
        "lr_GB = 0.1 # @param {type:\"number\"}\n",
        "#@markdown ---\n",
        "linear_regression = True # @param {type:\"boolean\"}\n",
        "#@markdown ---\n",
        "neural_network = True # @param {type:\"boolean\"}\n",
        "hidden_dim_NN = 10 # @param {type:\"integer\"}\n",
        "lr_NN = 0.01 # @param {type:\"number\"}"
      ],
      "metadata": {
        "cellView": "form",
        "id": "DC6AHXBm3XnI"
      },
      "execution_count": 60,
      "outputs": []
    },
    {
      "cell_type": "code",
      "source": [
        "gradBoost, results_GB = gradBoostRegTrain(data_train=data_train, data_val=data_val, num_epochs=num_epochs, n_estimators=n_estimators_GB, lr=lr_GB, max_depth=max_depth_GB)\n",
        "\n",
        "\n",
        "# Make predictions on the test set\n",
        "X_test = dataset_test['feature_test']; y_test = dataset_test['target_test']\n",
        "y_pred_GB = gradBoost.predict(X_test).reshape(-1,1)\n",
        "mse_test = skl.metrics.mean_squared_error(y_test, y_pred)  # for plotting\n",
        "\n",
        "\n",
        "# Evaluate the model's performance (transform back to terms of original prices)\n",
        "mse_test_price = skl.metrics.mean_squared_error(inv_y_scale(y_test), inv_y_scale(y_pred))\n",
        "print('\\n\\n','Test MSE in terms of original prices: ', mse_test_price)"
      ],
      "metadata": {
        "colab": {
          "base_uri": "https://localhost:8080/"
        },
        "id": "kGXmCIjWeRaq",
        "outputId": "07ba000a-fc26-4301-d287-93abe828dc89"
      },
      "execution_count": null,
      "outputs": [
        {
          "output_type": "stream",
          "name": "stdout",
          "text": [
            "\u001b[4mGradient Boosting Regressor Training\u001b[0m \n",
            "\n",
            "Notice: validation_0=Training Set, validation_1=Validation Set \n",
            "\n",
            "Epoch  1 / 2\n",
            "[0]\tvalidation_0-rmse:0.22346\tvalidation_1-rmse:0.22166\n",
            "[99]\tvalidation_0-rmse:0.08609\tvalidation_1-rmse:0.09927\n",
            "Epoch  2 / 2\n",
            "[0]\tvalidation_0-rmse:0.08596\tvalidation_1-rmse:0.09924\n",
            "[99]\tvalidation_0-rmse:0.07523\tvalidation_1-rmse:0.09410\n",
            "\n",
            "\n",
            " Test MSE in terms of original prices:  0.22299793136450524\n"
          ]
        }
      ]
    },
    {
      "cell_type": "code",
      "source": [
        "\"Plot Metrics\"\n",
        "\n",
        "fig, ax = plt.subplots(1,1,figsize=(10, 3))\n",
        "ax.semilogy(results['train_mse']**2)  # the training set\n",
        "plt.semilogy(results['valid_mse']**2)  # the validation set\n",
        "plt.title('MSE')\n",
        "plt.xlabel('Number of Trees')\n",
        "plt.legend(['Training set','Validation set'])\n",
        "plt.xlim([0,100*num_epochs])\n",
        "\n",
        "plt.semilogy(np.ones((100*num_epochs,1))*mse_test)\n",
        "plt.legend(['Training set','Validation set','Test output'])\n",
        "plt.show()"
      ],
      "metadata": {
        "colab": {
          "base_uri": "https://localhost:8080/",
          "height": 333
        },
        "id": "ew9oo_vzbvpx",
        "outputId": "df25fd3c-7c83-4407-ef58-0479bed709b9"
      },
      "execution_count": null,
      "outputs": [
        {
          "output_type": "display_data",
          "data": {
            "text/plain": [
              "<Figure size 1000x300 with 1 Axes>"
            ],
            "image/png": "[encoded data removed]"
          },
          "metadata": {}
        }
      ]
    }
  ]
}