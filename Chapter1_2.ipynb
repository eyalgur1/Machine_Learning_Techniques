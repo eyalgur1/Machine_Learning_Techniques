{
  "cells": [
    {
      "cell_type": "markdown",
      "metadata": {
        "id": "view-in-github",
        "colab_type": "text"
      },
      "source": [
        "<a href=\"https://colab.research.google.com/github/eyalgur1/Machine_Learning_Techniques/blob/main/Chapter1_2.ipynb\" target=\"_parent\"><img src=\"https://colab.research.google.com/assets/colab-badge.svg\" alt=\"Open In Colab\"/></a>"
      ]
    },
    {
      "cell_type": "code",
      "execution_count": null,
      "id": "1d7f8339",
      "metadata": {
        "id": "1d7f8339"
      },
      "outputs": [],
      "source": [
        "import numpy as np\n",
        "import pandas as pd\n",
        "import sympy as S\n",
        "from IPython.display import Latex"
      ]
    },
    {
      "cell_type": "markdown",
      "id": "b8967269",
      "metadata": {
        "id": "b8967269"
      },
      "source": [
        "LaTeX macros:\n",
        "$\\newcommand{\\vect}[1]{{\\mathbf{\\boldsymbol{{#1}}}}}\n",
        "\\newcommand{\\norm}[1]{\\left\\Vert {#1} \\right\\Vert}\n",
        "\\newcommand{\\abs}[1]{\\left| {#1} \\right|}\n",
        "\\newcommand{\\sm}[1]{{\\left\\{ {#1}\\right\\}}}\n",
        "\\newcommand{\\sa}[1]{\\left( {#1} \\right)}\n",
        "\\newcommand{\\sr}[1]{\\left[ {#1} \\right]}\n",
        "\\newcommand{\\real}{\\mathbb{R}}\n",
        "\\newcommand{\\AAA}{\\mathcal{A}}\n",
        "\\newcommand{\\BBB}{\\mathcal{B}}\n",
        "\\newcommand{\\CCC}{\\mathcal{C}}\n",
        "\\newcommand{\\DDD}{\\mathcal{D}}\n",
        "\\newcommand{\\EEE}{\\mathcal{E}}\n",
        "\\newcommand{\\FFF}{\\mathcal{F}}\n",
        "\\newcommand{\\GGG}{\\mathcal{G}}\n",
        "\\newcommand{\\HHH}{\\mathcal{H}}\n",
        "\\newcommand{\\III}{\\mathcal{I}}\n",
        "\\newcommand{\\JJJ}{\\mathcal{J}}\n",
        "\\newcommand{\\KKK}{\\mathcal{K}}\n",
        "\\newcommand{\\LLL}{\\mathcal{L}}\n",
        "\\newcommand{\\MMM}{\\mathcal{M}}\n",
        "\\newcommand{\\NNN}{\\mathcal{N}}\n",
        "\\newcommand{\\OOO}{\\mathcal{O}}\n",
        "\\newcommand{\\PPP}{\\mathcal{P}}\n",
        "\\newcommand{\\QQQ}{\\mathcal{Q}}\n",
        "\\newcommand{\\RRR}{\\mathcal{R}}\n",
        "\\newcommand{\\SSS}{\\mathcal{S}}\n",
        "\\newcommand{\\TTT}{\\mathcal{T}}\n",
        "\\newcommand{\\UUU}{\\mathcal{U}}\n",
        "\\newcommand{\\VVV}{\\mathcal{V}}\n",
        "\\newcommand{\\WWW}{\\mathcal{W}}\n",
        "\\newcommand{\\XXX}{\\mathcal{X}}\n",
        "\\newcommand{\\YYY}{\\mathcal{Y}}\n",
        "\\newcommand{\\ZZZ}{\\mathcal{Z}}\n",
        "\\newcommand{\\baa}{{\\bf A}}\n",
        "\\newcommand{\\bbb}{{\\bf B}}\n",
        "\\newcommand{\\bcc}{{\\bf C}}\n",
        "\\newcommand{\\bdd}{{\\bf D}}\n",
        "\\newcommand{\\bee}{{\\bf E}}\n",
        "\\newcommand{\\bff}{{\\bf F}}\n",
        "\\newcommand{\\bgg}{{\\bf G}}\n",
        "\\newcommand{\\bhh}{{\\bf H}}\n",
        "\\newcommand{\\bii}{{\\bf I}}\n",
        "\\newcommand{\\bjj}{{\\bf J}}\n",
        "\\newcommand{\\bkk}{{\\bf K}}\n",
        "\\newcommand{\\bll}{{\\bf L}}\n",
        "\\newcommand{\\bmm}{{\\bf M}}\n",
        "\\newcommand{\\bnn}{{\\bf N}}\n",
        "\\newcommand{\\boo}{{\\bf O}}\n",
        "\\newcommand{\\bpp}{{\\bf P}}\n",
        "\\newcommand{\\bqq}{{\\bf Q}}\n",
        "\\newcommand{\\brr}{{\\bf R}}\n",
        "\\newcommand{\\bss}{{\\bf S}}\n",
        "\\newcommand{\\btt}{{\\bf T}}\n",
        "\\newcommand{\\buu}{{\\bf U}}\n",
        "\\newcommand{\\bvv}{{\\bf V}}\n",
        "\\newcommand{\\bww}{{\\bf W}}\n",
        "\\newcommand{\\bxx}{{\\bf X}}\n",
        "\\newcommand{\\byy}{{\\bf Y}}\n",
        "\\newcommand{\\bzz}{{\\bf Z}}\n",
        "\\newcommand{\\ba}{{\\bf a}}\n",
        "\\newcommand{\\bb}{{\\bf b}}\n",
        "\\newcommand{\\bc}{{\\bf c}}\n",
        "\\newcommand{\\bd}{{\\bf d}}\n",
        "\\newcommand{\\be}{{\\bf e}}\n",
        "\\newcommand{\\bg}{{\\bf g}}\n",
        "\\newcommand{\\bh}{{\\bf h}}\n",
        "\\newcommand{\\bi}{{\\bf i}}\n",
        "\\newcommand{\\bj}{{\\bf j}}\n",
        "\\newcommand{\\bk}{{\\bf k}}\n",
        "\\newcommand{\\bl}{{\\bf l}}\n",
        "\\newcommand{\\bm}{{\\bf m}}\n",
        "\\newcommand{\\bn}{{\\bf n}}\n",
        "\\newcommand{\\bo}{{\\bf o}}\n",
        "\\newcommand{\\bp}{{\\bf p}}\n",
        "\\newcommand{\\bq}{{\\bf q}}\n",
        "\\newcommand{\\br}{{\\bf r}}\n",
        "\\newcommand{\\bs}{{\\bf s}}\n",
        "\\newcommand{\\bt}{{\\bf t}}\n",
        "\\newcommand{\\bu}{{\\bf u}}\n",
        "\\newcommand{\\bv}{{\\bf v}}\n",
        "\\newcommand{\\bw}{{\\bf w}}\n",
        "\\newcommand{\\bx}{{\\bf x}}\n",
        "\\newcommand{\\by}{{\\bf y}}\n",
        "\\newcommand{\\bz}{{\\bf z}}\n",
        "\\newcommand{\\Ebb}{{\\mathbb E}}\n",
        "\\newcommand{\\bmu}{\\boldsymbol{\\mu}}\n",
        "\\newcommand{\\bbeta}{\\boldsymbol{\\beta}}\n",
        "\\newcommand{\\beps}{\\boldsymbol{\\epsilon}}\n",
        "\\newcommand{\\bzeta}{\\boldsymbol{\\zeta}}\n",
        "\\newcommand{\\bomega}{\\boldsymbol{\\omega}}\n",
        "\\newcommand{\\bSigma}{\\boldsymbol{\\Sigma}}\n",
        "\\newcommand{\\btheta}{\\boldsymbol{\\theta}}\n",
        "\\newcommand{\\lamax}{\\lambda_{\\max}}\n",
        "\\newcommand{\\lamin}{\\lambda_{\\min}}$"
      ]
    },
    {
      "cell_type": "markdown",
      "id": "52ed3f06",
      "metadata": {
        "id": "52ed3f06"
      },
      "source": [
        "# Chapter 1: Getting Started with Scientific Python"
      ]
    },
    {
      "cell_type": "markdown",
      "id": "616ff988",
      "metadata": {
        "id": "616ff988"
      },
      "source": [
        "## 1.2 NumPy"
      ]
    },
    {
      "cell_type": "markdown",
      "id": "7f3ad365",
      "metadata": {
        "id": "7f3ad365"
      },
      "source": [
        "The slicing function $\\mathtt{None}$ (same as $\\mathtt{np.newaxis}$) is used to increase the dimension of an existing array by one more dimension. E.g., 1D array will become 2D array and so on.\n",
        "\n",
        "For example, we have $$\\mathtt{x\\ =\\ np.array([0,\\ 1,\\ 2,\\ 3])}\\quad\\Longrightarrow\\quad\\mathtt{x[None,\\ :]\\ =\\ array([[0,\\ 1,\\ 2,\\ 3]])}$$ and we also have $$\\begin{align}\\mathtt{x[:,\\ None]=array([}&\\mathtt{[0],}\\\\\n",
        "       &\\mathtt{[1],}\\\\\n",
        "       &\\mathtt{[2],}\\\\\n",
        "       &\\mathtt{[3]])}.\\end{align}$$"
      ]
    },
    {
      "cell_type": "code",
      "execution_count": null,
      "id": "35b0623b",
      "metadata": {
        "id": "35b0623b",
        "outputId": "63d76c9c-7ed5-41ce-f02e-a4938f721f2d"
      },
      "outputs": [
        {
          "data": {
            "text/plain": [
              "array([[0],\n",
              "       [1]])"
            ]
          },
          "execution_count": 9,
          "metadata": {},
          "output_type": "execute_result"
        }
      ],
      "source": [
        "y = np.array([0,1])\n",
        "y[:,None]"
      ]
    },
    {
      "cell_type": "code",
      "execution_count": null,
      "id": "7a53591a",
      "metadata": {
        "id": "7a53591a",
        "outputId": "6aa1cb32-8d50-418d-a207-0af9862c7600"
      },
      "outputs": [
        {
          "data": {
            "text/plain": [
              "array([[0, 1]])"
            ]
          },
          "execution_count": 8,
          "metadata": {},
          "output_type": "execute_result"
        }
      ],
      "source": [
        "y[None,:]"
      ]
    },
    {
      "cell_type": "code",
      "execution_count": null,
      "id": "7976b743",
      "metadata": {
        "id": "7976b743",
        "outputId": "71ee1e8f-c1eb-423c-c522-6eed55391247"
      },
      "outputs": [
        {
          "data": {
            "text/plain": [
              "array([[0, 1, 2, 3]])"
            ]
          },
          "execution_count": 27,
          "metadata": {},
          "output_type": "execute_result"
        }
      ],
      "source": [
        "z = np.array([0,1,2,3])\n",
        "z[None,:]"
      ]
    },
    {
      "cell_type": "markdown",
      "id": "8a25f3dc",
      "metadata": {
        "id": "8a25f3dc"
      },
      "source": [
        "## 1.7 Pandas"
      ]
    },
    {
      "cell_type": "code",
      "execution_count": null,
      "id": "84bbc8fa",
      "metadata": {
        "id": "84bbc8fa",
        "outputId": "35917788-82c1-4cf2-f9cb-fbf7a292b871"
      },
      "outputs": [
        {
          "data": {
            "text/plain": [
              "False    1\n",
              "True     4\n",
              "dtype: int64"
            ]
          },
          "execution_count": 94,
          "metadata": {},
          "output_type": "execute_result"
        }
      ],
      "source": [
        "x = pd.Series(range(5), [1,2,11,9,10])  # a Series consists of key and values\n",
        "grp = x.groupby(lambda i:i>2)  # generates groups of keys (two in this case - correspond to TRUE/FALSE) for values strictly greater than 2 and otherwise\n",
        "grp.get_group(1)  # displays the first group\n",
        "grp.max()  # in this case, displays a Series with keys FALSE/TRUE and the max key of each group"
      ]
    },
    {
      "cell_type": "code",
      "execution_count": null,
      "id": "11c865a2",
      "metadata": {
        "id": "11c865a2",
        "outputId": "f1812df9-36e3-40eb-cd2b-1c84ddd65e0d"
      },
      "outputs": [
        {
          "data": {
            "text/html": [
              "<div>\n",
              "<style scoped>\n",
              "    .dataframe tbody tr th:only-of-type {\n",
              "        vertical-align: middle;\n",
              "    }\n",
              "\n",
              "    .dataframe tbody tr th {\n",
              "        vertical-align: top;\n",
              "    }\n",
              "\n",
              "    .dataframe thead tr th {\n",
              "        text-align: left;\n",
              "    }\n",
              "\n",
              "    .dataframe thead tr:last-of-type th {\n",
              "        text-align: right;\n",
              "    }\n",
              "</style>\n",
              "<table border=\"1\" class=\"dataframe\">\n",
              "  <thead>\n",
              "    <tr>\n",
              "      <th></th>\n",
              "      <th colspan=\"3\" halign=\"left\">col2</th>\n",
              "    </tr>\n",
              "    <tr>\n",
              "      <th>col1</th>\n",
              "      <th>0</th>\n",
              "      <th>1</th>\n",
              "      <th>3</th>\n",
              "    </tr>\n",
              "    <tr>\n",
              "      <th>sum_col</th>\n",
              "      <th></th>\n",
              "      <th></th>\n",
              "      <th></th>\n",
              "    </tr>\n",
              "  </thead>\n",
              "  <tbody>\n",
              "    <tr>\n",
              "      <th>2</th>\n",
              "      <td>NaN</td>\n",
              "      <td>1.0</td>\n",
              "      <td>NaN</td>\n",
              "    </tr>\n",
              "    <tr>\n",
              "      <th>3</th>\n",
              "      <td>3.0</td>\n",
              "      <td>NaN</td>\n",
              "      <td>NaN</td>\n",
              "    </tr>\n",
              "    <tr>\n",
              "      <th>4</th>\n",
              "      <td>4.0</td>\n",
              "      <td>NaN</td>\n",
              "      <td>NaN</td>\n",
              "    </tr>\n",
              "    <tr>\n",
              "      <th>5</th>\n",
              "      <td>NaN</td>\n",
              "      <td>NaN</td>\n",
              "      <td>2.0</td>\n",
              "    </tr>\n",
              "  </tbody>\n",
              "</table>\n",
              "</div>"
            ],
            "text/plain": [
              "        col2          \n",
              "col1       0    1    3\n",
              "sum_col               \n",
              "2        NaN  1.0  NaN\n",
              "3        3.0  NaN  NaN\n",
              "4        4.0  NaN  NaN\n",
              "5        NaN  NaN  2.0"
            ]
          },
          "execution_count": 157,
          "metadata": {},
          "output_type": "execute_result"
        }
      ],
      "source": [
        "df = pd.DataFrame({'col1': [1,3,0,0], 'col2': [1,2,3,4]})  # similar to a table in MATLAB (here we have two columns with these values)\n",
        "df['sum_col'] = df.eval('col1+col2')  # creates a new column as the sum of the existing two\n",
        "grp = df.groupby(['sum_col','col1'])  # groups the keys (row-wise) according to the values of these two columns\n",
        "grp.get_group((2,1))  # 2 is a value from 'sum_col' and 1 is from 'sol1', hence now (2,1) is a key with the corresponding line\n",
        "grp.sum()  # sums the elemnts in each group\n",
        "res.unstack()  # displays a table (DataFrame) with NaN when there is no such key"
      ]
    },
    {
      "cell_type": "markdown",
      "id": "fc2f62d1",
      "metadata": {
        "id": "fc2f62d1"
      },
      "source": [
        "## 1.8 SymPy"
      ]
    },
    {
      "cell_type": "code",
      "execution_count": null,
      "id": "d8051be6",
      "metadata": {
        "id": "d8051be6",
        "outputId": "86d2c615-ec4b-47fa-d974-bb5311deb20a"
      },
      "outputs": [
        {
          "data": {
            "text/plain": [
              "array([ 2.55740772, -0.37007973])"
            ]
          },
          "execution_count": 139,
          "metadata": {},
          "output_type": "execute_result"
        }
      ],
      "source": [
        "x = S.symbols('x')\n",
        "y = S.tan(x) * x + x**2\n",
        "yf = S.lambdify(x,y,'numpy')\n",
        "yf(np.array([1,2]))  # is the input is a vector then the function is calculated element-wise"
      ]
    },
    {
      "cell_type": "markdown",
      "id": "15179168",
      "metadata": {
        "id": "15179168"
      },
      "source": [
        "# Chpater 2: Probability"
      ]
    },
    {
      "cell_type": "markdown",
      "id": "563f7917",
      "metadata": {
        "id": "563f7917"
      },
      "source": [
        "## 2.1.2 Random Variables"
      ]
    },
    {
      "cell_type": "code",
      "execution_count": null,
      "id": "55de99fb",
      "metadata": {
        "id": "55de99fb",
        "outputId": "f2a9d885-bbff-43ab-9395-c70494bfc550"
      },
      "outputs": [
        {
          "data": {
            "text/plain": [
              "dict_items([((1, 1), 2), ((1, 2), 3), ((1, 3), 4), ((1, 4), 5), ((1, 5), 6), ((1, 6), 7), ((2, 1), 3), ((2, 2), 4), ((2, 3), 5), ((2, 4), 6), ((2, 5), 7), ((2, 6), 8), ((3, 1), 4), ((3, 2), 5), ((3, 3), 6), ((3, 4), 7), ((3, 5), 8), ((3, 6), 9), ((4, 1), 5), ((4, 2), 6), ((4, 3), 7), ((4, 4), 8), ((4, 5), 9), ((4, 6), 10), ((5, 1), 6), ((5, 2), 7), ((5, 3), 8), ((5, 4), 9), ((5, 5), 10), ((5, 6), 11), ((6, 1), 7), ((6, 2), 8), ((6, 3), 9), ((6, 4), 10), ((6, 5), 11), ((6, 6), 12)])"
            ]
          },
          "execution_count": 44,
          "metadata": {},
          "output_type": "execute_result"
        }
      ],
      "source": [
        "dictionary = {(i + 1, j + 1): (i+1)+(j+1) for i in range(6) for j in range(6)}  # dictionary of the sum of all pairs of two dice\n",
        "dictionary\n",
        "dictionary.items()"
      ]
    },
    {
      "cell_type": "code",
      "execution_count": null,
      "id": "5f3e7ac6",
      "metadata": {
        "id": "5f3e7ac6",
        "outputId": "bb5c4ae9-a9e5-4f2a-cca7-6fca45149c48"
      },
      "outputs": [
        {
          "data": {
            "text/plain": [
              "defaultdict(list,\n",
              "            {2: [(1, 1)],\n",
              "             3: [(1, 2), (2, 1)],\n",
              "             4: [(1, 3), (2, 2), (3, 1)],\n",
              "             5: [(1, 4), (2, 3), (3, 2), (4, 1)],\n",
              "             6: [(1, 5), (2, 4), (3, 3), (4, 2), (5, 1)],\n",
              "             7: [(1, 6), (2, 5), (3, 4), (4, 3), (5, 2), (6, 1)],\n",
              "             8: [(2, 6), (3, 5), (4, 4), (5, 3), (6, 2)],\n",
              "             9: [(3, 6), (4, 5), (5, 4), (6, 3)],\n",
              "             10: [(4, 6), (5, 5), (6, 4)],\n",
              "             11: [(5, 6), (6, 5)],\n",
              "             12: [(6, 6)]})"
            ]
          },
          "execution_count": 45,
          "metadata": {},
          "output_type": "execute_result"
        }
      ],
      "source": [
        "from collections import defaultdict\n",
        "dinv = defaultdict(list)\n",
        "for (i,j) in dictionary.items():\n",
        "    # herer i is the pairs of 'dictionary' and j are the values\n",
        "    dinv[j].append(i)  # here dinv[j] i a key that does not exist initially, so defaultdict solves this issue\n",
        "\n",
        "dinv"
      ]
    },
    {
      "cell_type": "markdown",
      "id": "30f19cc1",
      "metadata": {
        "id": "30f19cc1"
      },
      "source": [
        "Explanation for the above $\\texttt{defaultdict(list)}$: The defaultdict object from the built-in collections module creates dictionaries with default values when it encounters a new key. Otherwise, we would have had to create default values manually for a regular dictionary. It automatically generates a value of [] for the calles key when calling a non-existing key"
      ]
    },
    {
      "cell_type": "code",
      "execution_count": null,
      "id": "611596f0",
      "metadata": {
        "id": "611596f0",
        "outputId": "c2e710fe-682b-4711-b08e-e507265beaed"
      },
      "outputs": [
        {
          "data": {
            "text/plain": [
              "{2: 0.027777777777777776,\n",
              " 3: 0.05555555555555555,\n",
              " 4: 0.08333333333333333,\n",
              " 5: 0.1111111111111111,\n",
              " 6: 0.1388888888888889,\n",
              " 7: 0.16666666666666666,\n",
              " 8: 0.1388888888888889,\n",
              " 9: 0.1111111111111111,\n",
              " 10: 0.08333333333333333,\n",
              " 11: 0.05555555555555555,\n",
              " 12: 0.027777777777777776}"
            ]
          },
          "execution_count": 46,
          "metadata": {},
          "output_type": "execute_result"
        }
      ],
      "source": [
        "X = {i : len(dinv[i])/36 for i in dinv}  # a dictionary with the probabilty of getting each of the values of the sums\n",
        "X"
      ]
    },
    {
      "cell_type": "code",
      "execution_count": null,
      "id": "47024c71",
      "metadata": {
        "id": "47024c71",
        "outputId": "8a472a80-923f-47c4-f773-fabe5ac27e51"
      },
      "outputs": [
        {
          "data": {
            "text/plain": [
              "sum_1_2\n",
              "2     0.018519\n",
              "3     0.037037\n",
              "4     0.055556\n",
              "5     0.092593\n",
              "6     0.129630\n",
              "7     0.166667\n",
              "8     0.148148\n",
              "9     0.129630\n",
              "10    0.111111\n",
              "11    0.074074\n",
              "12    0.037037\n",
              "Name: p, dtype: float64"
            ]
          },
          "execution_count": 116,
          "metadata": {},
          "output_type": "execute_result"
        }
      ],
      "source": [
        "DF = pd.DataFrame(index = [(i, j) for i in range(1,7) for j in range(1,7)], columns = ['sum_1_2', 'dice1', 'dice2','p_dice1','p_dice2','p'])\n",
        "DF.sum_1_2 = [sum(DF.index[i]) for i in range(36)]  # sum of all two pairs\n",
        "DF.dice1 = [i[0] for i in DF.index]\n",
        "DF.dice2 = [i[1] for i in DF.index]\n",
        "DF.p_dice1 = [(1/9)*(DF.index[i][0] <= 3) + (2/9)*(DF.index[i][0] > 3) for i in range(36)] # unfair coin\n",
        "DF.p_dice2 = [(1/6) for i in range(36)]\n",
        "DF.p = DF.p_dice1*DF.p_dice2  # probability of getting each pair\n",
        "PDF = DF.groupby('sum_1_2')['p'].sum()  # group by the possible sum values, and sum all corresponding values in 'p'\n",
        "PDF  # that is a PDF"
      ]
    },
    {
      "cell_type": "markdown",
      "id": "e56c2f93",
      "metadata": {
        "id": "e56c2f93"
      },
      "source": [
        "## 2.2 Projection Methods"
      ]
    },
    {
      "cell_type": "code",
      "execution_count": null,
      "id": "eaf0d47e",
      "metadata": {
        "id": "eaf0d47e"
      },
      "outputs": [],
      "source": [
        "import matplotlib.pyplot as plt\n",
        "import matplotlib.patches as patches"
      ]
    },
    {
      "cell_type": "code",
      "execution_count": null,
      "id": "92d8c94e",
      "metadata": {
        "id": "92d8c94e",
        "outputId": "253f2998-2a7e-4d39-8524-bec6dba9992f"
      },
      "outputs": [
        {
          "data": {
            "image/png": "[encoded data removed]",
            "text/plain": [
              "<Figure size 640x480 with 1 Axes>"
            ]
          },
          "metadata": {},
          "output_type": "display_data"
        }
      ],
      "source": [
        "# Create a plot with several elements (here, line plot, scatter and a patch)\n",
        "fig, ax = plt.subplots()  # fog is the figure and ax is the variable for whoch we add data to the axes\n",
        "ax.plot(range(6))  # plots a line\n",
        "plt.xlim(0, 5)\n",
        "plt.ylim(0, 5)\n",
        "ax.add_patch(patches.Circle((3, 4), radius=0.5, edgecolor='r', facecolor='red', alpha=0.2))  # adds a patch\n",
        "ax.scatter(3,4, color='red')  # adds the scatter\n",
        "ax.set_aspect('equal')\n",
        "plt.show(fig)  # generated and displays the fig (notice that plt.show() generated and displays the last fig)"
      ]
    },
    {
      "cell_type": "markdown",
      "id": "3f0e4469",
      "metadata": {
        "id": "3f0e4469"
      },
      "source": [
        "## 2.3 Conditional Expectation as Projection\n",
        "Apperantly $\\langle X,Y\\rangle\\equiv\\mathbb{E}\\sr{XY}$ is an inner product.  We have $\\langle X-h_{\\mathrm{opt}}(Y),Y\\rangle=0$ for two random variables and some \"optimizing\" function $h$. This is analgous to $\\sa{\\mathbf{y}-\\mathbf{v}_{\\mathrm{opt}}}^T\\mathbf{v}=0$ where $\\mathbf{v}_{\\mathrm{opt}}$ is the projection of $\\mathbf{y}$ onto $\\mathbf{v}$.\n",
        "\n",
        "It can be shown that $h_{\\mathrm{opt}}\\sa{Y}=\\mathbb{E}\\sr{X|Y}$ and therefore $\\Ebb\\sr{XY}=\\Ebb\\sr{{Y\\cdot\\Ebb\\sr{X|Y}}}$ which is called the $\\textit{tower property}$.\n",
        "\n",
        "$\\rightarrow$ With this theory one can show that the closest constant to $X$ in the sense of $\\textrm{MSE}=\\Ebb\\sr{X-c}^2$ is simply $c=\\Ebb\\sr{X}$ (can also be shown analytiaclly)."
      ]
    },
    {
      "cell_type": "markdown",
      "id": "f6356f13",
      "metadata": {
        "id": "f6356f13"
      },
      "source": [
        "We have three possible ways to calculate $\\Ebb\\sr{X|Y}$, which involve integration:\n",
        "\n",
        "1. By definition as $\\int x\\frac{f_{X,Y}\\sa{x,y}}{f_Y\\sa{y}}dx$.\n",
        "2. By MSE as $\\min_{h}\\int\\int\\sa{x-h\\sa{y}}^2f_{X,Y}\\sa{x,y}dxdy$.\n",
        "3. By inner product (projection) as $\\Ebb\\sr{\\sa{X-h\\sa{Y}}Y}=0$."
      ]
    },
    {
      "cell_type": "markdown",
      "id": "e74a8155",
      "metadata": {
        "id": "e74a8155"
      },
      "source": [
        "The SymPy code below verifies that the two sides of the following equation are equal:\n",
        "$$\\Ebb\\sr{\\sa{X-\\Ebb\\sr{X|Y}}^2}=\\Ebb\\sr{X^2}-\\Ebb\\sr{\\Ebb\\sr{X|Y}^2}.$$\n",
        "This equation always holds and we will show it for $X,Y\\in\\sr{0,1}$ and $f_{X,Y}\\sa{x,y}=x+y$. It holds that $\\Ebb\\sr{X|Y}=\\frac{3y+2}{6y+3}$."
      ]
    },
    {
      "cell_type": "code",
      "execution_count": null,
      "id": "3903b132",
      "metadata": {
        "id": "3903b132",
        "outputId": "fa262664-d349-4bc6-ae04-bc6df5140b11"
      },
      "outputs": [
        {
          "name": "stdout",
          "output_type": "stream",
          "text": [
            "True\n"
          ]
        }
      ],
      "source": [
        "from sympy.abc import y,x\n",
        "from sympy import integrate\n",
        "\n",
        "fxy = x + y  # PDF\n",
        "fy = integrate(fxy,(x,0,1)) # marginal density\n",
        "fx = integrate(fxy,(y,0,1)) # marginal density\n",
        "EXY = (3*y+2)/(6*y+3) # conditional expectation\n",
        "\n",
        "LHS = integrate((x-EXY)**2*fxy,(x,0,1),(y,0,1))  # by definition of the LHS as expectation\n",
        "RHS = integrate((x)**2*fx,(x,0,1))-integrate((EXY)**2*fy,(y,0,1))\n",
        "\n",
        "print((LHS-RHS)==0)"
      ]
    },
    {
      "cell_type": "markdown",
      "id": "8cbc447a",
      "metadata": {
        "id": "8cbc447a"
      },
      "source": [
        "## 2.4 Conditional Expectation and Mean Squared Error\n",
        "\n",
        "$X,Y$ are random variable of two dice. Given some $z=x+y$, we want the best estimate of $X$ in the MSE sense. That is, the closest $x$ in the sub-space spanned by $z$. We minimize:\n",
        "$$J\\sa{\\alpha}=\\sum\\sa{x-\\alpha z}^2\\mathbb{P}\\sa{x,z}=\\sum\\sa{x-\\alpha \\sa{x+y}}^2\\mathbb{P}\\sa{x,y}=\\Ebb\\sr{\\sa{X-\\alpha \\sa{X+Y}}^2}.$$\n",
        "\n",
        "Using the theory above we know that $\\Ebb\\sr{X|Z}=\\alpha_{\\mathrm{opt}} Z$."
      ]
    },
    {
      "cell_type": "code",
      "execution_count": null,
      "id": "4beb269d",
      "metadata": {
        "id": "4beb269d",
        "outputId": "b19796bd-5f6f-445b-bc1a-caf87dd3954f"
      },
      "outputs": [
        {
          "name": "stdout",
          "output_type": "stream",
          "text": [
            "329*a**2/6 - 329*a/6 + 91/6\n",
            "[1/2]\n"
          ]
        },
        {
          "data": {
            "text/latex": [
              "$\\displaystyle \\frac{7}{2}$"
            ],
            "text/plain": [
              "7/2"
            ]
          },
          "execution_count": 31,
          "metadata": {},
          "output_type": "execute_result"
        }
      ],
      "source": [
        "from sympy.stats import density, E, Die\n",
        "\n",
        "x = Die('D1', 6)  # 1st die\n",
        "y = Die('D2', 6)  # 2nd die\n",
        "a = S.symbols('a')\n",
        "z = x+y\n",
        "J = E((x-a*(x+y))**2)  # expectation\n",
        "print(S.simplify(J))  # writes the expectation explicitly, using the fact that it comes from two dice\n",
        "\n",
        "sol = S.solve(S.diff(J,a),a)  # differentiate the objective, and then solve it for a\n",
        "print(sol)  # we get a=0.5 which means z/2 is the best estimate for x\n",
        "\n",
        "# We can also simply caluclate the conditional expectation for any value of z.\n",
        "E(x, S.Eq(z,7))  # here we assume that z=7"
      ]
    },
    {
      "cell_type": "code",
      "execution_count": null,
      "id": "00a5dcfa",
      "metadata": {
        "id": "00a5dcfa",
        "outputId": "ab019f11-7db1-4c87-b3c3-0d7797d458ac"
      },
      "outputs": [
        {
          "name": "stdout",
          "output_type": "stream",
          "text": [
            "MSE=7.980 using 6 vs MSE=3.410 using 7/2 \n"
          ]
        }
      ],
      "source": [
        "# Here we check numerically by showing that if z=7, then indeed E[X|Z]=7/2 (i.e., the MSE is minimized for 7/2).\n",
        "from sympy import stats\n",
        "\n",
        "samples_z7 = lambda : stats.sample(x, S.Eq(z,7))\n",
        "# samples x subject to a condition on the z. It generates random samples of x die, given that the sum of the outcomes\n",
        "# of that die and the y die add up to z==7.\n",
        "# lambda means that samples_z7 is a function and its value can be called.\n",
        "\n",
        "mn = np.mean([(6-samples_z7())**2 for i in range(100)])  # using 6 as the MSE estimate\n",
        "mn0 = np.mean([((7/2) - samples_z7())**2 for i in range(100)])  # using 7/2 as the MSE estimate\n",
        "\n",
        "print('MSE=%3.3f using 6 vs MSE=%3.3f using 7/2 ' % (mn,mn0))"
      ]
    },
    {
      "cell_type": "code",
      "execution_count": null,
      "id": "c6cc9a1e",
      "metadata": {
        "id": "c6cc9a1e",
        "outputId": "191ba516-d7d6-4ca5-f747-217cb280994b"
      },
      "outputs": [
        {
          "name": "stdout",
          "output_type": "stream",
          "text": [
            "5.00000000000000\n",
            "MSE=5.060 using 6 vs MSE=2.550 using 5 \n"
          ]
        }
      ],
      "source": [
        "# This reult stays true even if the dice is unbiased\n",
        "x = stats.FiniteRV('D3',{1:1/15, 2:1/15, 3:1/15, 4:1/15, 5:1/15, 6:2/3})\n",
        "print(E(x, S.Eq(z,7)))\n",
        "\n",
        "mn = np.mean([(6-samples_z7())**2 for i in range(100)])  # using 6 as the MSE estimate\n",
        "mn0 = np.mean([(5 - samples_z7())**2 for i in range(100)])  # using 5 as the MSE estimate\n",
        "print('MSE=%3.3f using 6 vs MSE=%3.3f using 5 ' % (mn, mn0))"
      ]
    },
    {
      "cell_type": "markdown",
      "id": "dd860f89",
      "metadata": {
        "id": "dd860f89"
      },
      "source": [
        "### 2.5.1 Example\n",
        "\n",
        "***Three coins of 10, 20 and 50p are tossed. The values of the coins that land heads up are totaled. What is the expected total money given that two coins have landed heads up?*** The possible oucomes are of course $30,60,70$ and hence the expectation is $160/3$. We can also show this using the theorey above.\n",
        "\n",
        "We want to compute $\\Ebb\\sr{\\xi\\mid\\eta}$ where $\\xi=10X_{10}+20X_{20}+50X_{50}$ for $X_i\\in\\sm{0,1}$ are Bernoulli-distributed, and where $\\eta$ represents the condition that only two of the three coins are heads-up.\n",
        "\n",
        "We define $\\eta=X_{10}X_{20}\\sa{1-X_{50}}+X_{10}X_{50}\\sa{1-X_{20}}+X_{50}X_{20}\\sa{1-X_{10}}$ and notice that $\\eta=1$ iff exactly two are heads-up. This means that we are interested in $\\Ebb\\sr{\\xi\\mid\\eta=1}$. (Notice that other $\\eta$-s can be fomulated! For example, $\\eta=\\sum_i{X_i}$ and then we are interested in $\\Ebb\\sr{\\xi\\mid\\eta=2}$.)\n",
        "\n",
        "We already know that $\\Ebb\\sr{\\xi\\mid\\eta}$ minimizes the MSE, so we need to find a function $h\\sa{\\eta}$ that minimizes $\\mathrm{MSE}=\\sum_{X\\in\\sm{0,1}^3}\\frac{1}{2^3}\\sa{\\xi-h\\sa{\\eta}}^2$ (since we have $2^3$ possible outcomes for $\\sm{X_{10},X_{20},X_{50}}$), and this minimizing $h$ is $\\Ebb\\sr{\\xi\\mid\\eta}$ (of course, for this specifically defined $\\eta$).\n",
        "\n",
        "How to find this $h$? Recall that we are only intersted in $\\Ebb\\sr{\\xi\\mid\\eta=1}$, and that we already know from the theory above that $h\\sa{1}=\\Ebb\\sr{\\xi\\mid\\eta=1}=\\sum_{\\xi}\\xi\\mathbb{P}\\cdot\\sa{\\textrm{sum}=\\xi\\mid\\eta=1}$, which can be calculated.\n",
        "\n",
        "Alternatively, we can assume that $h\\sa{\\eta}=\\alpha\\eta$ for some $\\alpha$. Recall that we require that $\\langle\\xi-\\alpha\\eta,\\eta\\rangle=0$, and by the definition of inner product we get that $\\alpha=\\frac{\\langle\\xi,\\eta\\rangle}{\\langle\\eta,\\eta\\rangle}$. Notice that $\\langle\\xi,\\eta\\rangle=\\Ebb\\sr{\\xi\\eta}=\\sum_{X\\in\\sm{0,1}^3}\\frac{1}{2^3}\\sa{\\xi\\eta}$ by definition of expectation, and similarly for $\\langle\\eta,\\eta\\rangle$. Now we can simply find alpha using SymPy.\n",
        "\n",
        "It holds that $\\alpha=160/3$ and hence $\\Ebb\\sr{\\xi\\mid\\eta=1}=160/3$."
      ]
    },
    {
      "cell_type": "code",
      "execution_count": null,
      "id": "cd71a6bd",
      "metadata": {
        "id": "cd71a6bd",
        "outputId": "b79de37e-ded0-4be7-ef71-5d4cb7284bd0"
      },
      "outputs": [
        {
          "name": "stdout",
          "output_type": "stream",
          "text": [
            "alpha is: 160/3\n",
            "53.19537758667025\n"
          ]
        }
      ],
      "source": [
        "X10,X20,X50 = S.symbols('X10,X20,X50')  # three variables\n",
        "xi = 10*X10+20*X20+50*X50\n",
        "eta = X10*X20*(1-X50)+X10*(1-X20)*(X50)+(1-X10)*X20*(X50)\n",
        "\n",
        "# the summation function evaluates the variables with integers from 'start_integer' to 'end_integer', and then sums xi*eta across all possible permuatations (2^3=8 in total in this case)\n",
        "# this function omits the use of a for loop that will go over all possible values of the three variales\n",
        "num = (S.summation(xi*eta,(X10,0,1),(X20,0,1),(X50,0,1)))/8\n",
        "den = (S.summation(eta*eta,(X10,0,1),(X20,0,1),(X50,0,1)))/8\n",
        "print('alpha is:', num/den)\n",
        "\n",
        "\n",
        "# The code above gives an analytical proof. We can also check it numerically. We first create a DataFrame with three columns containing 10k random flips\n",
        "D = pd.DataFrame(columns = ['X10','X20','X50'])  # three empty columns\n",
        "D.X10 = np.random.randint(0, 2, 10000)\n",
        "D.X20 = np.random.randint(0, 2, 10000)\n",
        "D.X50 = np.random.randint(0, 2, 10000)\n",
        "xi = 10*D.X10 + 20*D.X20 + 50*D.X50\n",
        "D['xi'] = xi  # add a colums xi\n",
        "eta = ((D.X10 + D.X20 + D.X50) == 2)  # a different way to define eta\n",
        "D['eta'] = eta\n",
        "grp = D.groupby(D.eta) # two groups according to eta\n",
        "xi_eta1 = grp.get_group(True)  # a new DataFrame for eta==1\n",
        "print(np.mean(xi_eta1.xi))  # get empirical alpha"
      ]
    },
    {
      "cell_type": "markdown",
      "id": "afb22b30",
      "metadata": {
        "id": "afb22b30"
      },
      "source": [
        "### 2.5.2 Example\n",
        "***The same three coins are tossed as before. What is the conditional expectation of the total amount shown by the three\n",
        "coins given the total amount shown by the 10 and 20p coins only?*** Here it obvious that the total sum is the observed sum plus $0$ or $50$, depending how th 50p coins flips. Hence, the expected total sum is tht observed sum plus $25$.\n",
        "\n",
        "We define the random variables $\\xi=10X_{10}+20X_{20}+50X_{50}$ and $\\eta=10X_{10}+20X_{20}$. We need to find $\\Ebb\\sr{\\xi\\mid\\eta}$ as a function of $\\eta$. Using the theory above we know that $\\Ebb\\sr{\\xi\\mid\\eta}=h_{\\mathrm{opt}}\\sa{\\eta}$ where\n",
        "$$\n",
        "h_{\\mathrm{opt}}=\\textrm{argmin}_{h}\\Ebb\\sr{\\sa{\\xi-h\\sa{\\eta}}^2}.\n",
        "$$\n",
        "\n",
        "Since we are minimizing over the set of functions, we restirct ourselves to polynomials, since all functions can be approximated by polynoials. But how can we know in advance the degree of this polynomial? We don't generally, only if we explore special features of the problem. We focus on degree $3$, that is $h\\sa{\\eta}=a\\eta^2+b\\eta+c $ which gives the problem\n",
        "$$\n",
        "\\textrm{argmin}_{a,b,c}\\Ebb\\sr{\\sa{\\xi-\\sa{a\\eta^2+b\\eta+c}}^2}.\n",
        "$$\n",
        "\n",
        "This problem is convex in $a,b,c$ so we can just find a stationary point. We use the SymPy code below and get that $a=0, b=1, c=25$. This means that $\\Ebb\\sr{\\xi\\mid\\eta}=\\eta+25$ which is what we expected."
      ]
    },
    {
      "cell_type": "code",
      "execution_count": null,
      "id": "7d16b0d6",
      "metadata": {
        "id": "7d16b0d6",
        "outputId": "bc4a3760-6943-4cf3-fe22-131f64d22590"
      },
      "outputs": [
        {
          "name": "stdout",
          "output_type": "stream",
          "text": [
            "245000.0*a**2 + 18000.0*a*b + 700.0*a*c - 35500.0*a + 350.0*b**2 + 30.0*b*c - 1450.0*b + 1.0*c**2 - 80.0*c + 2350.0\n",
            "{a: 0.0, b: 1.00000000000000, c: 25.0000000000000}\n"
          ]
        },
        {
          "data": {
            "text/plain": [
              "sum_X10_X20\n",
              "0     24.340811\n",
              "10    34.398557\n",
              "20    45.659522\n",
              "30    55.206774\n",
              "Name: xi, dtype: float64"
            ]
          },
          "execution_count": 107,
          "metadata": {},
          "output_type": "execute_result"
        }
      ],
      "source": [
        "from sympy.stats import Bernoulli, E\n",
        "X10 = Bernoulli('X10', 0.5)  # a fair coin toss\n",
        "X20 = Bernoulli('X20', 0.5)  # a fair coin toss\n",
        "X50 = Bernoulli('X50', 0.5)  # a fair coin toss\n",
        "a = S.symbols('a')\n",
        "b = S.symbols('b')\n",
        "c = S.symbols('c')\n",
        "xi = 10*X10+20*X20+50*X50\n",
        "eta = 10*X10+20*X20\n",
        "J = E(((xi-(a*eta**2+b*eta+c))**2))\n",
        "print(S.simplify(J))\n",
        "sol = S.solve([S.diff(J,a),S.diff(J,b),S.diff(J,c)],(a,b,c))  # find the gradient and fint a stationary point\n",
        "print(sol)\n",
        "\n",
        "\n",
        "# we can also check this numerically using pandas.\n",
        "sum_X10_X20 = 10*D.X10+20*D.X20  # calculate the values of the sums of the first two coins\n",
        "D['sum_X10_X20'] = sum_X10_X20  # add a new column with these values\n",
        "grp = D.groupby(D.sum_X10_X20).mean()  # group the DataFrame by these values (which are eta={0,10,20,30} in this case) and calculate the mean of all coulms forr each of the groups\n",
        "grp.xi  # display the mean of xi (the total sum) and see that indeed we get xi≈eta+25"
      ]
    },
    {
      "cell_type": "markdown",
      "id": "cc6e9b76",
      "metadata": {
        "id": "cc6e9b76"
      },
      "source": [
        "### 2.5.3 Example\n",
        "***$X\\sim\\sr{0,1}$. Find $\\Ebb\\sr{\\xi\\mid\\eta}$ where $\\xi\\sa{x}=2x^2$ and $$\\eta\\sa{x}=\\begin{cases}1,&x\\in\\sr{0,1/3},\\\\2,&x\\in\\sa{1/3,2/3},\\\\0,&x\\in\\left(2/3,1\\right].\\end{cases}$$***\n",
        "\n",
        "In this example the intuition fails (at least my current intuition). For example, if $\\eta=2$ then $x\\in\\sa{1/3,2/3}$. Since $X$ is uniformly distributed, then it is \"reasonable\" that $\\Ebb\\sr{\\xi\\mid\\eta=2}=2\\cdot0.5^2=1/2$ (we plug $0.5$ as this is the midpoint between $1/3$ and $2/3$). However, it turns out that $\\Ebb\\sr{\\xi\\mid\\eta=2}\\approx0.519624>1/2$.\n",
        "\n",
        "To show this mathematically, we will solve\n",
        "$$\n",
        "\\textrm{argmin}_{a,b,c}\\Ebb\\sr{\\sa{\\xi-\\sa{a\\eta^2+b\\eta+c}}^2}.\n",
        "$$\n",
        "Again, we do not know exactly the degree of the approximating polynomial. However, any polynomial gives a convex function in its coefficients. We use SymPy to find this minimum."
      ]
    },
    {
      "cell_type": "code",
      "execution_count": null,
      "id": "ed687330",
      "metadata": {
        "id": "ed687330",
        "outputId": "33b37bf7-9f6b-4601-fd8d-675677735ff1"
      },
      "outputs": [
        {
          "name": "stdout",
          "output_type": "stream",
          "text": [
            "{a: 0.888888888888892, b: -2.22222222222223, c: 1.40740740740741}\n"
          ]
        }
      ],
      "source": [
        "from sympy.stats import Uniform, E\n",
        "X = Uniform('X', 0, 1) # a uniform variable\n",
        "a = S.symbols('a')\n",
        "b = S.symbols('b')\n",
        "c = S.symbols('c')\n",
        "xi = 2*X**2\n",
        "eta = S.Piecewise((1, X<=(1/3)), (2, X<(2/3)), (0, X<=1))  # return the first value that gives TRUE\n",
        "J = E(((xi-(a*eta**2+b*eta+c))**2))  # when calculating this expectation we use the fact that X~U[0,1]\n",
        "sol = S.solve([S.diff(J,a),S.diff(J,b),S.diff(J,c)],(a,b,c))  # find the gradient and fint a stationary point\n",
        "print(sol)"
      ]
    },
    {
      "cell_type": "markdown",
      "id": "438fa810",
      "metadata": {
        "id": "438fa810"
      },
      "source": [
        "We therefore get that $\\Ebb\\sr{\\xi\\mid\\eta}=0.888888888888892\\eta^2-2.22222222222223\\eta+1.40740740740741$. Plugging $\\eta=0,1,2$ we get the correct expectations.\n",
        "\n",
        "We can also check that numeircally using pandas."
      ]
    },
    {
      "cell_type": "code",
      "execution_count": null,
      "id": "551e3ea8",
      "metadata": {
        "id": "551e3ea8",
        "outputId": "38b49f81-7f9e-41e2-d7e9-1ed43d056fdf"
      },
      "outputs": [
        {
          "data": {
            "text/plain": [
              "eta\n",
              "0    1.412271\n",
              "1    0.079866\n",
              "2    0.520226\n",
              "Name: xi, dtype: float64"
            ]
          },
          "execution_count": 161,
          "metadata": {},
          "output_type": "execute_result"
        }
      ],
      "source": [
        "DD = pd.DataFrame(columns = ['X','eta','xi'])  # three empty columns\n",
        "DD.X = np.random.rand(1000)\n",
        "DD.xi = 2*(DD.X)**2\n",
        "DD.eta = [1 if i<=1/3 else 2*((2/3)>i) for i in DD.X]  # generate eta in one line of code, and similarly we can set eta = pd.cut(DD.X, [0,1/3,2/3,1])\n",
        "grp = DD.groupby(DD.eta).mean()\n",
        "grp.xi"
      ]
    },
    {
      "cell_type": "markdown",
      "id": "e53d73e2",
      "metadata": {
        "id": "e53d73e2"
      },
      "source": [
        "If we are not concerned about mathematical proofs, then we can simply use the following SymPy code to get the expectations."
      ]
    },
    {
      "cell_type": "code",
      "execution_count": null,
      "id": "028bb970",
      "metadata": {
        "id": "028bb970",
        "outputId": "f29418b9-3f0d-429e-d2af-ce0c753a28ba"
      },
      "outputs": [
        {
          "name": "stdout",
          "output_type": "stream",
          "text": [
            "2/27\n",
            "14/27\n",
            "38/27\n"
          ]
        }
      ],
      "source": [
        "from sympy.stats import E, Uniform\n",
        "x=Uniform('x',0,1)\n",
        "print(E(2*x**2,S.And(x < S.Rational(1,3), x > 0)))\n",
        "print(E(2*x**2,S.And(x < S.Rational(2,3), x > S.Rational(1,3))))\n",
        "print(E(2*x**2,S.And(x < 1, x > S.Rational(2,3))))\n",
        "\n",
        "# we use S.Rational(1,3) instead of 1/3, just as to print the values in a rational number form"
      ]
    },
    {
      "cell_type": "markdown",
      "id": "c02449fd",
      "metadata": {
        "id": "c02449fd"
      },
      "source": [
        "### 2.5.4 Example\n",
        "***$X\\sim\\sr{0,1}$. Find $\\Ebb\\sr{\\xi\\mid\\eta}$ where $\\xi\\sa{x}=2x^2$ and $$\\eta\\sa{x}=\\begin{cases}2,&x\\in\\left[0,1/2\\right),\\\\x,&x\\in\\sr{1/2,1}.\\end{cases}$$***\n",
        "\n",
        "Again, we use SymPy to solve\n",
        "$$\n",
        "\\textrm{argmin}_{a,b,c}\\Ebb\\sr{\\sa{\\xi-\\sa{a\\eta^2+b\\eta+c}}^2}.\n",
        "$$\n",
        "The solution gives $-3.02455937590292\\eta\\sa{x}^2+7.46893961282866\\eta\\sa{x}-2.67184339786189$ which is contanst on $1/6$ for $x\\in\\sr{0,0.5}$ and is $2x^2$ otherwise."
      ]
    },
    {
      "cell_type": "code",
      "execution_count": null,
      "id": "1de63f35",
      "metadata": {
        "id": "1de63f35",
        "outputId": "17cb8a5e-41c7-47f1-ddaf-66ea7090a073"
      },
      "outputs": [
        {
          "name": "stdout",
          "output_type": "stream",
          "text": [
            "{a: -3.02455937590292, b: 7.46893961282866, c: -2.67184339786189}\n",
            "0.167798324183762\n"
          ]
        },
        {
          "data": {
            "text/plain": [
              "eta\n",
              "0.500067    0.500135\n",
              "0.500080    0.500160\n",
              "0.500242    0.500484\n",
              "0.500592    0.501186\n",
              "0.500593    0.501186\n",
              "              ...   \n",
              "0.999367    1.997469\n",
              "0.999552    1.998210\n",
              "0.999592    1.998367\n",
              "0.999743    1.998972\n",
              "2.000000    0.166207\n",
              "Name: xi, Length: 5003, dtype: float64"
            ]
          },
          "execution_count": 210,
          "metadata": {},
          "output_type": "execute_result"
        }
      ],
      "source": [
        "from sympy.stats import Uniform, E\n",
        "X = Uniform('X', 0, 1) # a uniform variable\n",
        "a = S.symbols('a')\n",
        "b = S.symbols('b')\n",
        "c = S.symbols('c')\n",
        "xi = 2*X**2\n",
        "eta = S.Piecewise((2, X<1/2), (X, X<=1))  # return the first value that gives TRUE\n",
        "J = E(((xi-(a*eta**2+b*eta+c))**2))  # when calculating this expectation we use the fact that X~U[0,1]\n",
        "sol = S.solve([S.diff(J,a),S.diff(J,b),S.diff(J,c)],(a,b,c))  # find the gradient (even though this is not a differentiable function as it piecewise)\n",
        "print(sol)\n",
        "\n",
        "# we can also use the solution to see that indeed E[xi|eta(x)]=1/6 if 0<x<0.5 and 2x^2 otherwise\n",
        "t = S.symbols('t')\n",
        "expec = sol[a]*t**2 +sol[b]*t+sol[c]\n",
        "x_rand = 0.3  # just set any number 0<=x<=1\n",
        "print(expec.subs(t, eta.subs(X,x_rand)))\n",
        "\n",
        "# and again we can use pandas to veirfy numerically\n",
        "D254 = pd.DataFrame(columns = ['X','eta','xi'])  # three empty columns\n",
        "D254.X = np.random.rand(10000)\n",
        "D254.xi = 2*(D254.X)**2\n",
        "D254.eta = [2 if i<1/2 else i for i in D254.X]  # generate eta in one line of code, and similarly we can set eta = pd.cut(DD.X, [0,1/3,2/3,1])\n",
        "grp = D254.groupby(D254.eta).mean()\n",
        "grp.xi"
      ]
    },
    {
      "cell_type": "markdown",
      "id": "1f5131c8",
      "metadata": {
        "id": "1f5131c8"
      },
      "source": [
        "## 2.7 Information Entropy\n",
        "\n",
        "Given a randon variable $X$ with probability distribution $p$, its entropy is\n",
        "$$H\\sa{X}\\equiv-\\sum_{x\\in\\Omega}p\\sa{x}\\log p\\sa{x}=\\Ebb\\sr{-\\log p\\sa{X}}.$$\n",
        "This measures the average level of \"information\" of the variable's possible outcomes.\n",
        "\n",
        "### 2.7.3 Kullback–Leibler Divergence\n",
        "For two distributions $P$ and $Q$, we define\n",
        "$$D_{\\mathrm{KL}}\\sa{P,Q}\\equiv\\sum_{x}P\\sa{x}\\log\\frac{P\\sa{x}}{Q\\sa{x}}.$$\n",
        "Notice that $D\\ge0$ with equality iff $P=Q$ so it \"measures\" distnace\n",
        "\n",
        "### 2.7.4 Cross-Entropy as Maximum Likelihood\n",
        "Recall that $\\theta_{\\mathrm{ML}}=\\mathrm{argmax}_{\\theta}\\sum_{i=1}^n\\log p\\sa{x_i;\\theta}$ is the ML estimator for $\\theta$. It can be shown that\n",
        "$$\\theta_{\\mathrm{ML}}=\\mathrm{argmax}_{\\theta}D_{\\mathrm{KL}}\\sa{\\hat p,p}=\\mathrm{argmin}_{\\theta}\\Ebb_{x\\sim\\hat{p}}\\sr{\\log p\\sa{x_i;\\theta}},$$\n",
        "where $p$ is the distribution of the data (e.g., in WSNL it is Gaussian), and $\\Ebb_{x\\sim\\hat{p}}$ is the empirical average."
      ]
    },
    {
      "cell_type": "markdown",
      "id": "10f516e5",
      "metadata": {
        "id": "10f516e5"
      },
      "source": [
        "$\\color{red}{\\text{COMPLETE HERE THE SAMPLING SECTIONS IN THE BOOK}}$"
      ]
    }
  ],
  "metadata": {
    "kernelspec": {
      "display_name": "Python 3 (ipykernel)",
      "language": "python",
      "name": "python3"
    },
    "language_info": {
      "codemirror_mode": {
        "name": "ipython",
        "version": 3
      },
      "file_extension": ".py",
      "mimetype": "text/x-python",
      "name": "python",
      "nbconvert_exporter": "python",
      "pygments_lexer": "ipython3",
      "version": "3.11.5"
    },
    "colab": {
      "provenance": [],
      "include_colab_link": true
    }
  },
  "nbformat": 4,
  "nbformat_minor": 5
}